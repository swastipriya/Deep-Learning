{
 "cells": [
  {
   "cell_type": "code",
   "execution_count": 1,
   "metadata": {},
   "outputs": [
    {
     "data": {
      "text/plain": [
       "'2.0.0'"
      ]
     },
     "execution_count": 1,
     "metadata": {},
     "output_type": "execute_result"
    }
   ],
   "source": [
    "import tensorflow as tf\n",
    "tf.__version__"
   ]
  },
  {
   "cell_type": "code",
   "execution_count": 36,
   "metadata": {},
   "outputs": [],
   "source": [
    "from tensorflow.keras.models import Sequential\n",
    "from tensorflow.keras.layers import Dense, Conv2D, Flatten, Dropout, MaxPooling2D\n",
    "from tensorflow.keras.preprocessing.image import ImageDataGenerator\n",
    "\n",
    "import os\n",
    "import numpy as np\n",
    "import matplotlib.pyplot as plt\n",
    "import pandas as pd\n",
    "import pickle"
   ]
  },
  {
   "cell_type": "code",
   "execution_count": 3,
   "metadata": {},
   "outputs": [],
   "source": [
    "train_dir = os.path.join(os.getcwd(), 'train\\\\train_set')  # contains 40000 images\n",
    "validation_dir = os.path.join(os.getcwd(), 'train\\\\validation_set')  #contains 5000 images\n",
    "test_dir = os.path.join(os.getcwd(), 'train\\\\test_set')  #contains 5000 images\n",
    "training_labels_df = pd.read_csv('C:\\\\Users\\\\M1047249\\\\Documents\\\\Intel openvino\\\\nn assignment\\\\train\\\\trainLabels.csv')"
   ]
  },
  {
   "cell_type": "code",
   "execution_count": 4,
   "metadata": {},
   "outputs": [
    {
     "name": "stdout",
     "output_type": "stream",
     "text": [
      "train data size :  40000\n",
      "validation data size:  5000\n",
      "test data size :  5000\n",
      "training labels size :  50000\n"
     ]
    }
   ],
   "source": [
    "print('train data size : ', len(os.listdir(train_dir)))\n",
    "print('validation data size: ', len(os.listdir(validation_dir)))\n",
    "print('test data size : ', len(os.listdir(test_dir)))\n",
    "print('training labels size : ', len(training_labels_df))"
   ]
  },
  {
   "cell_type": "code",
   "execution_count": 5,
   "metadata": {},
   "outputs": [],
   "source": [
    "training_labels_df = training_labels_df.astype(str)"
   ]
  },
  {
   "cell_type": "code",
   "execution_count": 6,
   "metadata": {},
   "outputs": [],
   "source": [
    "training_labels_df['id'] = training_labels_df['id']+'.png'"
   ]
  },
  {
   "cell_type": "code",
   "execution_count": 18,
   "metadata": {},
   "outputs": [],
   "source": [
    "batch_size = 128\n",
    "test_batch_size=100\n",
    "epochs = 15\n",
    "# image property is 32x32 pixel\n",
    "IMG_HEIGHT = 32\n",
    "IMG_WIDTH = 32\n",
    "\n",
    "total_train=len(os.listdir(train_dir))\n",
    "total_validation=len(os.listdir(validation_dir))\n",
    "total_test=len(os.listdir(test_dir))"
   ]
  },
  {
   "cell_type": "code",
   "execution_count": 8,
   "metadata": {},
   "outputs": [],
   "source": [
    "train_data_gen = ImageDataGenerator(rescale = 1./255)\n",
    "validation_data_gen = ImageDataGenerator(rescale = 1./255)\n",
    "test_data_gen = ImageDataGenerator(rescale = 1./255)"
   ]
  },
  {
   "cell_type": "code",
   "execution_count": 53,
   "metadata": {},
   "outputs": [
    {
     "name": "stdout",
     "output_type": "stream",
     "text": [
      "Found 40000 validated image filenames belonging to 10 classes.\n"
     ]
    }
   ],
   "source": [
    "train_generator = train_data_gen.flow_from_dataframe(batch_size=batch_size,\n",
    "                                               directory= train_dir,\n",
    "                                               dataframe = training_labels_df.iloc[:40000, :],\n",
    "                                               x_col='id',\n",
    "                                               y_col='label',\n",
    "                                               shuffle=True,\n",
    "                                               target_size=(IMG_HEIGHT, IMG_WIDTH),\n",
    "                                               class_mode='categorical')\n"
   ]
  },
  {
   "cell_type": "code",
   "execution_count": 54,
   "metadata": {},
   "outputs": [
    {
     "name": "stdout",
     "output_type": "stream",
     "text": [
      "Found 5000 validated image filenames belonging to 10 classes.\n"
     ]
    }
   ],
   "source": [
    "validation_generator = validation_data_gen.flow_from_dataframe(batch_size=batch_size,\n",
    "                                               directory= validation_dir,\n",
    "                                               dataframe = training_labels_df.iloc[40000:45000,:],\n",
    "                                               x_col='id',\n",
    "                                               y_col='label',\n",
    "                                               shuffle=True,\n",
    "                                               target_size=(IMG_HEIGHT, IMG_WIDTH),\n",
    "                                               class_mode='categorical')"
   ]
  },
  {
   "cell_type": "code",
   "execution_count": 55,
   "metadata": {},
   "outputs": [
    {
     "name": "stdout",
     "output_type": "stream",
     "text": [
      "Found 5000 validated image filenames.\n"
     ]
    }
   ],
   "source": [
    "# Note - test batch size of step should absolutely divide total_test\n",
    "test_generator = test_data_gen.flow_from_dataframe(batch_size=test_batch_size,\n",
    "                                               directory= test_dir,\n",
    "                                               dataframe = training_labels_df.iloc[45000:,:],\n",
    "                                               x_col='id',\n",
    "                                               y_col= None,\n",
    "                                               shuffle=False,\n",
    "                                               target_size=(IMG_HEIGHT, IMG_WIDTH),\n",
    "                                               class_mode=None)"
   ]
  },
  {
   "cell_type": "markdown",
   "metadata": {},
   "source": [
    "### Model Building"
   ]
  },
  {
   "cell_type": "code",
   "execution_count": 56,
   "metadata": {},
   "outputs": [],
   "source": [
    "model = Sequential()\n",
    "\n",
    "model.add(Conv2D(16, (3, 3), activation='relu', padding='same', name='conv_1', input_shape=(IMG_HEIGHT, IMG_WIDTH, 3)))\n",
    "model.add(MaxPooling2D((2,2), name='max_pool_1'))\n",
    "\n",
    "model.add(Conv2D(32, (3,3), activation='relu', padding='same', name='conv_2'))\n",
    "model.add(MaxPooling2D((2,2), name='max_pool_2'))\n",
    "\n",
    "model.add(Conv2D(64, (3,3), activation='relu', padding='same', name='conv_3'))\n",
    "model.add(MaxPooling2D((2,2), name='max_pool_3'))\n",
    "\n",
    "model.add(Conv2D(128, (3,3), activation='relu', padding='same', name='conv_4'))\n",
    "model.add(MaxPooling2D((2,2), name='max_pool_4'))\n",
    "\n",
    "model.add(Flatten())\n",
    "\n",
    "model.add(Dropout(0.5))\n",
    "\n",
    "model.add(Dense(512, activation='relu', name='dense_1'))\n",
    "\n",
    "model.add(Dense(10, activation='softmax', name='output'))"
   ]
  },
  {
   "cell_type": "code",
   "execution_count": 57,
   "metadata": {},
   "outputs": [],
   "source": [
    "model.compile(optimizer='rmsprop', loss='categorical_crossentropy', metrics=['accuracy'])"
   ]
  },
  {
   "cell_type": "code",
   "execution_count": 58,
   "metadata": {},
   "outputs": [
    {
     "name": "stdout",
     "output_type": "stream",
     "text": [
      "Model: \"sequential_2\"\n",
      "_________________________________________________________________\n",
      "Layer (type)                 Output Shape              Param #   \n",
      "=================================================================\n",
      "conv_1 (Conv2D)              (None, 32, 32, 16)        448       \n",
      "_________________________________________________________________\n",
      "max_pool_1 (MaxPooling2D)    (None, 16, 16, 16)        0         \n",
      "_________________________________________________________________\n",
      "conv_2 (Conv2D)              (None, 16, 16, 32)        4640      \n",
      "_________________________________________________________________\n",
      "max_pool_2 (MaxPooling2D)    (None, 8, 8, 32)          0         \n",
      "_________________________________________________________________\n",
      "conv_3 (Conv2D)              (None, 8, 8, 64)          18496     \n",
      "_________________________________________________________________\n",
      "max_pool_3 (MaxPooling2D)    (None, 4, 4, 64)          0         \n",
      "_________________________________________________________________\n",
      "conv_4 (Conv2D)              (None, 4, 4, 128)         73856     \n",
      "_________________________________________________________________\n",
      "max_pool_4 (MaxPooling2D)    (None, 2, 2, 128)         0         \n",
      "_________________________________________________________________\n",
      "flatten_2 (Flatten)          (None, 512)               0         \n",
      "_________________________________________________________________\n",
      "dropout_2 (Dropout)          (None, 512)               0         \n",
      "_________________________________________________________________\n",
      "dense_1 (Dense)              (None, 512)               262656    \n",
      "_________________________________________________________________\n",
      "output (Dense)               (None, 10)                5130      \n",
      "=================================================================\n",
      "Total params: 365,226\n",
      "Trainable params: 365,226\n",
      "Non-trainable params: 0\n",
      "_________________________________________________________________\n"
     ]
    }
   ],
   "source": [
    "model.summary()"
   ]
  },
  {
   "cell_type": "markdown",
   "metadata": {},
   "source": [
    "### Model training"
   ]
  },
  {
   "cell_type": "code",
   "execution_count": 59,
   "metadata": {},
   "outputs": [
    {
     "name": "stdout",
     "output_type": "stream",
     "text": [
      "Train for 312 steps, validate for 39 steps\n",
      "Epoch 1/15\n",
      "312/312 [==============================] - 81s 260ms/step - loss: 1.8091 - accuracy: 0.3308 - val_loss: 1.5377 - val_accuracy: 0.4363\n",
      "Epoch 2/15\n",
      "312/312 [==============================] - 72s 229ms/step - loss: 1.4687 - accuracy: 0.4647 - val_loss: 1.3294 - val_accuracy: 0.5192\n",
      "Epoch 3/15\n",
      "312/312 [==============================] - 75s 239ms/step - loss: 1.3157 - accuracy: 0.5267 - val_loss: 1.1901 - val_accuracy: 0.5699\n",
      "Epoch 4/15\n",
      "312/312 [==============================] - 70s 225ms/step - loss: 1.2062 - accuracy: 0.5657 - val_loss: 1.1882 - val_accuracy: 0.5787\n",
      "Epoch 5/15\n",
      "312/312 [==============================] - 70s 225ms/step - loss: 1.1186 - accuracy: 0.5981 - val_loss: 1.0506 - val_accuracy: 0.6270\n",
      "Epoch 6/15\n",
      "312/312 [==============================] - 71s 229ms/step - loss: 1.0524 - accuracy: 0.6265 - val_loss: 1.0441 - val_accuracy: 0.6348\n",
      "Epoch 7/15\n",
      "312/312 [==============================] - 80s 255ms/step - loss: 0.9913 - accuracy: 0.6489 - val_loss: 0.9789 - val_accuracy: 0.6492\n",
      "Epoch 8/15\n",
      "312/312 [==============================] - 70s 223ms/step - loss: 0.9450 - accuracy: 0.6628 - val_loss: 1.0388 - val_accuracy: 0.6388\n",
      "Epoch 9/15\n",
      "312/312 [==============================] - 70s 224ms/step - loss: 0.9044 - accuracy: 0.6807 - val_loss: 0.9047 - val_accuracy: 0.6789\n",
      "Epoch 10/15\n",
      "312/312 [==============================] - 72s 231ms/step - loss: 0.8604 - accuracy: 0.6965 - val_loss: 0.9079 - val_accuracy: 0.6791\n",
      "Epoch 11/15\n",
      "312/312 [==============================] - 71s 227ms/step - loss: 0.8324 - accuracy: 0.7050 - val_loss: 0.8874 - val_accuracy: 0.6847\n",
      "Epoch 12/15\n",
      "312/312 [==============================] - 76s 244ms/step - loss: 0.7947 - accuracy: 0.7199 - val_loss: 0.9066 - val_accuracy: 0.6865\n",
      "Epoch 13/15\n",
      "312/312 [==============================] - 77s 248ms/step - loss: 0.7710 - accuracy: 0.7271 - val_loss: 0.9161 - val_accuracy: 0.6821\n",
      "Epoch 14/15\n",
      "312/312 [==============================] - 74s 236ms/step - loss: 0.7433 - accuracy: 0.7363 - val_loss: 0.8702 - val_accuracy: 0.6979\n",
      "Epoch 15/15\n",
      "312/312 [==============================] - 77s 247ms/step - loss: 0.7237 - accuracy: 0.7436 - val_loss: 0.8650 - val_accuracy: 0.6995\n"
     ]
    }
   ],
   "source": [
    "history = model.fit(\n",
    "    train_generator,\n",
    "    steps_per_epoch=total_train // batch_size,\n",
    "    epochs=epochs,\n",
    "    validation_data=validation_generator,\n",
    "    validation_steps=total_validation // batch_size,\n",
    "    verbose=1\n",
    ")"
   ]
  },
  {
   "cell_type": "code",
   "execution_count": 60,
   "metadata": {},
   "outputs": [],
   "source": [
    "# 4 conv, flatten, dropout, dense and output , epoch 15, without augmentation\n",
    "model.save('image_classifier_without_augmentation.h5') "
   ]
  },
  {
   "cell_type": "markdown",
   "metadata": {},
   "source": [
    "### Model Evaluation"
   ]
  },
  {
   "cell_type": "code",
   "execution_count": 61,
   "metadata": {},
   "outputs": [
    {
     "data": {
      "text/plain": [
       "['loss', 'accuracy']"
      ]
     },
     "execution_count": 61,
     "metadata": {},
     "output_type": "execute_result"
    }
   ],
   "source": [
    "model.metrics_names"
   ]
  },
  {
   "cell_type": "code",
   "execution_count": 62,
   "metadata": {},
   "outputs": [
    {
     "data": {
      "text/plain": [
       "[0.86503022756332, 0.6995192]"
      ]
     },
     "execution_count": 62,
     "metadata": {},
     "output_type": "execute_result"
    }
   ],
   "source": [
    "score = model.evaluate_generator(generator=validation_generator, steps=total_validation // batch_size)\n",
    "score\n"
   ]
  },
  {
   "cell_type": "markdown",
   "metadata": {},
   "source": [
    "### Model Predictions"
   ]
  },
  {
   "cell_type": "code",
   "execution_count": 64,
   "metadata": {},
   "outputs": [
    {
     "name": "stdout",
     "output_type": "stream",
     "text": [
      "50/50 [==============================] - 7s 141ms/step\n"
     ]
    }
   ],
   "source": [
    "test_generator.reset()\n",
    "prediction=model.predict_generator(test_generator,\n",
    "                                   steps=total_test // test_batch_size,\n",
    "                                   verbose=1)"
   ]
  },
  {
   "cell_type": "code",
   "execution_count": 65,
   "metadata": {},
   "outputs": [],
   "source": [
    "predicted_class_indices=np.argmax(prediction,axis=1)\n",
    "\n",
    "labels = (train_generator.class_indices)\n",
    "labels = dict((v,k) for k,v in labels.items())\n",
    "predictions = [labels[k] for k in predicted_class_indices]"
   ]
  },
  {
   "cell_type": "code",
   "execution_count": 66,
   "metadata": {
    "scrolled": true
   },
   "outputs": [],
   "source": [
    "filenames=test_generator.filenames\n",
    "results=pd.DataFrame({\"Filename\":filenames,\n",
    "                      \"Predictions\":predictions})\n",
    "results.to_csv(\"results_without_augmentation.csv\",index=False)"
   ]
  },
  {
   "cell_type": "markdown",
   "metadata": {},
   "source": [
    "### Visualizing Training Results"
   ]
  },
  {
   "cell_type": "code",
   "execution_count": 67,
   "metadata": {},
   "outputs": [
    {
     "data": {
      "image/png": "[encoded data removed]",
      "text/plain": [
       "<Figure size 576x576 with 2 Axes>"
      ]
     },
     "metadata": {
      "needs_background": "light"
     },
     "output_type": "display_data"
    }
   ],
   "source": [
    "# Before data Augmentation\n",
    "acc = history.history['accuracy']\n",
    "val_acc = history.history['val_accuracy']\n",
    "\n",
    "loss=history.history['loss']\n",
    "val_loss=history.history['val_loss']\n",
    "\n",
    "epochs_range = range(epochs)\n",
    "\n",
    "plt.figure(figsize=(8, 8))\n",
    "plt.subplot(1, 2, 1)\n",
    "plt.plot(epochs_range, acc, label='Training Accuracy')\n",
    "plt.plot(epochs_range, val_acc, label='Validation Accuracy')\n",
    "plt.legend(loc='lower right')\n",
    "plt.title('Training and Validation Accuracy')\n",
    "\n",
    "plt.subplot(1, 2, 2)\n",
    "plt.plot(epochs_range, loss, label='Training Loss')\n",
    "plt.plot(epochs_range, val_loss, label='Validation Loss')\n",
    "plt.legend(loc='upper right')\n",
    "plt.title('Training and Validation Loss')\n",
    "plt.show()"
   ]
  },
  {
   "cell_type": "markdown",
   "metadata": {},
   "source": [
    "## Training with Data Augmentation"
   ]
  },
  {
   "cell_type": "code",
   "execution_count": 19,
   "metadata": {},
   "outputs": [],
   "source": [
    "train_data_gen = ImageDataGenerator(rescale = 1./255,\n",
    "                                   rotation_range=40,\n",
    "                                   width_shift_range=0.2,\n",
    "                                   height_shift_range=0.2,\n",
    "                                   shear_range=0.2,\n",
    "                                   zoom_range=0.2,\n",
    "                                   horizontal_flip=True)"
   ]
  },
  {
   "cell_type": "code",
   "execution_count": 20,
   "metadata": {},
   "outputs": [
    {
     "name": "stdout",
     "output_type": "stream",
     "text": [
      "Found 40000 validated image filenames belonging to 10 classes.\n"
     ]
    }
   ],
   "source": [
    "train_generator = train_data_gen.flow_from_dataframe(batch_size=batch_size,\n",
    "                                               directory= train_dir,\n",
    "                                               dataframe = training_labels_df.iloc[:40000, :],\n",
    "                                               x_col='id',\n",
    "                                               y_col='label',\n",
    "                                               shuffle=True,\n",
    "                                               target_size=(IMG_HEIGHT, IMG_WIDTH),\n",
    "                                               class_mode='categorical')"
   ]
  },
  {
   "cell_type": "code",
   "execution_count": 21,
   "metadata": {},
   "outputs": [
    {
     "name": "stdout",
     "output_type": "stream",
     "text": [
      "Found 5000 validated image filenames belonging to 10 classes.\n"
     ]
    }
   ],
   "source": [
    "validation_generator = validation_data_gen.flow_from_dataframe(batch_size=batch_size,\n",
    "                                               directory= validation_dir,\n",
    "                                               dataframe = training_labels_df.iloc[40000:45000,:],\n",
    "                                               x_col='id',\n",
    "                                               y_col='label',\n",
    "                                               shuffle=True,\n",
    "                                               target_size=(IMG_HEIGHT, IMG_WIDTH),\n",
    "                                               class_mode='categorical')"
   ]
  },
  {
   "cell_type": "code",
   "execution_count": 22,
   "metadata": {},
   "outputs": [
    {
     "name": "stdout",
     "output_type": "stream",
     "text": [
      "Found 5000 validated image filenames.\n"
     ]
    }
   ],
   "source": [
    "test_generator = test_data_gen.flow_from_dataframe(batch_size=test_batch_size,\n",
    "                                               directory= test_dir,\n",
    "                                               dataframe = training_labels_df.iloc[45000:,:],\n",
    "                                               x_col='id',\n",
    "                                               y_col= None,\n",
    "                                               shuffle=False,\n",
    "                                               target_size=(IMG_HEIGHT, IMG_WIDTH),\n",
    "                                               class_mode=None)"
   ]
  },
  {
   "cell_type": "code",
   "execution_count": 72,
   "metadata": {},
   "outputs": [],
   "source": [
    "# This function will plot images in the form of a grid with 1 row and 5 columns where images are placed in each column.\n",
    "def plotImages(images_arr):\n",
    "    fig, axes = plt.subplots(1, 5, figsize=(20,20))\n",
    "    axes = axes.flatten()\n",
    "    for img, ax in zip( images_arr, axes):\n",
    "        ax.imshow(img)\n",
    "        ax.axis('off')\n",
    "    plt.tight_layout()\n",
    "    plt.show()"
   ]
  },
  {
   "cell_type": "code",
   "execution_count": 73,
   "metadata": {},
   "outputs": [
    {
     "data": {
      "image/png": "[encoded data removed]",
      "text/plain": [
       "<Figure size 1440x1440 with 5 Axes>"
      ]
     },
     "metadata": {
      "needs_background": "light"
     },
     "output_type": "display_data"
    }
   ],
   "source": [
    "augmented_images = [train_generator[0][0][0] for i in range(5)]\n",
    "plotImages(augmented_images)"
   ]
  },
  {
   "cell_type": "markdown",
   "metadata": {},
   "source": [
    "### Model Building"
   ]
  },
  {
   "cell_type": "code",
   "execution_count": 23,
   "metadata": {},
   "outputs": [],
   "source": [
    "model = Sequential()\n",
    "\n",
    "model.add(Conv2D(16, (3, 3), activation='relu', padding='same', name='conv_1', input_shape=(IMG_HEIGHT, IMG_WIDTH, 3)))\n",
    "model.add(MaxPooling2D((2,2), name='max_pool_1'))\n",
    "\n",
    "model.add(Conv2D(32, (3,3), activation='relu', padding='same', name='conv_2'))\n",
    "model.add(MaxPooling2D((2,2), name='max_pool_2'))\n",
    "\n",
    "model.add(Conv2D(64, (3,3), activation='relu', padding='same', name='conv_3'))\n",
    "model.add(MaxPooling2D((2,2), name='max_pool_3'))\n",
    "\n",
    "model.add(Conv2D(128, (3,3), activation='relu', padding='same', name='conv_4'))\n",
    "model.add(MaxPooling2D((2,2), name='max_pool_4'))\n",
    "\n",
    "model.add(Flatten())\n",
    "\n",
    "model.add(Dropout(0.5))\n",
    "\n",
    "model.add(Dense(512, activation='relu', name='dense_1'))\n",
    "\n",
    "model.add(Dense(10, activation='softmax', name='output'))"
   ]
  },
  {
   "cell_type": "code",
   "execution_count": 24,
   "metadata": {},
   "outputs": [],
   "source": [
    "model.compile(optimizer='rmsprop', loss='categorical_crossentropy', metrics=['accuracy'])"
   ]
  },
  {
   "cell_type": "code",
   "execution_count": 25,
   "metadata": {},
   "outputs": [
    {
     "name": "stdout",
     "output_type": "stream",
     "text": [
      "Model: \"sequential_1\"\n",
      "_________________________________________________________________\n",
      "Layer (type)                 Output Shape              Param #   \n",
      "=================================================================\n",
      "conv_1 (Conv2D)              (None, 32, 32, 16)        448       \n",
      "_________________________________________________________________\n",
      "max_pool_1 (MaxPooling2D)    (None, 16, 16, 16)        0         \n",
      "_________________________________________________________________\n",
      "conv_2 (Conv2D)              (None, 16, 16, 32)        4640      \n",
      "_________________________________________________________________\n",
      "max_pool_2 (MaxPooling2D)    (None, 8, 8, 32)          0         \n",
      "_________________________________________________________________\n",
      "conv_3 (Conv2D)              (None, 8, 8, 64)          18496     \n",
      "_________________________________________________________________\n",
      "max_pool_3 (MaxPooling2D)    (None, 4, 4, 64)          0         \n",
      "_________________________________________________________________\n",
      "conv_4 (Conv2D)              (None, 4, 4, 128)         73856     \n",
      "_________________________________________________________________\n",
      "max_pool_4 (MaxPooling2D)    (None, 2, 2, 128)         0         \n",
      "_________________________________________________________________\n",
      "flatten_1 (Flatten)          (None, 512)               0         \n",
      "_________________________________________________________________\n",
      "dropout_1 (Dropout)          (None, 512)               0         \n",
      "_________________________________________________________________\n",
      "dense_1 (Dense)              (None, 512)               262656    \n",
      "_________________________________________________________________\n",
      "output (Dense)               (None, 10)                5130      \n",
      "=================================================================\n",
      "Total params: 365,226\n",
      "Trainable params: 365,226\n",
      "Non-trainable params: 0\n",
      "_________________________________________________________________\n"
     ]
    }
   ],
   "source": [
    "model.summary()"
   ]
  },
  {
   "cell_type": "markdown",
   "metadata": {},
   "source": [
    "### Model Training"
   ]
  },
  {
   "cell_type": "code",
   "execution_count": 26,
   "metadata": {},
   "outputs": [
    {
     "name": "stdout",
     "output_type": "stream",
     "text": [
      "Train for 312 steps, validate for 39 steps\n",
      "Epoch 1/15\n",
      "312/312 [==============================] - 163s 524ms/step - loss: 1.9949 - accuracy: 0.2647 - val_loss: 1.9179 - val_accuracy: 0.3197\n",
      "Epoch 2/15\n",
      "312/312 [==============================] - 110s 353ms/step - loss: 1.7510 - accuracy: 0.3614 - val_loss: 1.4947 - val_accuracy: 0.4655\n",
      "Epoch 3/15\n",
      "312/312 [==============================] - 104s 334ms/step - loss: 1.6332 - accuracy: 0.4080 - val_loss: 1.4245 - val_accuracy: 0.4858\n",
      "Epoch 4/15\n",
      "312/312 [==============================] - 119s 383ms/step - loss: 1.5626 - accuracy: 0.4357 - val_loss: 1.3077 - val_accuracy: 0.5284\n",
      "Epoch 5/15\n",
      "312/312 [==============================] - 162s 518ms/step - loss: 1.5130 - accuracy: 0.4514 - val_loss: 1.3318 - val_accuracy: 0.5268\n",
      "Epoch 6/15\n",
      "312/312 [==============================] - 154s 495ms/step - loss: 1.4704 - accuracy: 0.4707 - val_loss: 1.2453 - val_accuracy: 0.5583\n",
      "Epoch 7/15\n",
      "312/312 [==============================] - 132s 423ms/step - loss: 1.4343 - accuracy: 0.4833 - val_loss: 1.2426 - val_accuracy: 0.5525\n",
      "Epoch 8/15\n",
      "312/312 [==============================] - 125s 400ms/step - loss: 1.3971 - accuracy: 0.4944 - val_loss: 1.2035 - val_accuracy: 0.5751\n",
      "Epoch 9/15\n",
      "312/312 [==============================] - 119s 383ms/step - loss: 1.3759 - accuracy: 0.5074 - val_loss: 1.2548 - val_accuracy: 0.5431\n",
      "Epoch 10/15\n",
      "312/312 [==============================] - 102s 327ms/step - loss: 1.3542 - accuracy: 0.5152 - val_loss: 1.1714 - val_accuracy: 0.5743\n",
      "Epoch 11/15\n",
      "312/312 [==============================] - 101s 324ms/step - loss: 1.3302 - accuracy: 0.5255 - val_loss: 1.1965 - val_accuracy: 0.5613\n",
      "Epoch 12/15\n",
      "312/312 [==============================] - 94s 303ms/step - loss: 1.3067 - accuracy: 0.5313 - val_loss: 1.1580 - val_accuracy: 0.5775\n",
      "Epoch 13/15\n",
      "312/312 [==============================] - 94s 302ms/step - loss: 1.3001 - accuracy: 0.5339 - val_loss: 1.0757 - val_accuracy: 0.6166\n",
      "Epoch 14/15\n",
      "312/312 [==============================] - 93s 299ms/step - loss: 1.2813 - accuracy: 0.5414 - val_loss: 1.1339 - val_accuracy: 0.5990\n",
      "Epoch 15/15\n",
      "312/312 [==============================] - 94s 300ms/step - loss: 1.2571 - accuracy: 0.5509 - val_loss: 1.1249 - val_accuracy: 0.5946\n"
     ]
    }
   ],
   "source": [
    "history = model.fit(\n",
    "    train_generator,\n",
    "    steps_per_epoch=total_train // batch_size,\n",
    "    epochs=epochs,\n",
    "    validation_data=validation_generator,\n",
    "    validation_steps=total_validation // batch_size,\n",
    "    verbose=1\n",
    ")"
   ]
  },
  {
   "cell_type": "code",
   "execution_count": 27,
   "metadata": {},
   "outputs": [],
   "source": [
    " # 4 conv, flatten, dropout, dense and output , epoch 15, data augmentation\n",
    "model.save('image_classifier_with_augmentation.h5') "
   ]
  },
  {
   "cell_type": "markdown",
   "metadata": {},
   "source": [
    "### Model Evaluation"
   ]
  },
  {
   "cell_type": "code",
   "execution_count": 28,
   "metadata": {},
   "outputs": [
    {
     "data": {
      "text/plain": [
       "['loss', 'accuracy']"
      ]
     },
     "execution_count": 28,
     "metadata": {},
     "output_type": "execute_result"
    }
   ],
   "source": [
    "model.metrics_names"
   ]
  },
  {
   "cell_type": "code",
   "execution_count": 29,
   "metadata": {},
   "outputs": [
    {
     "data": {
      "text/plain": [
       "[1.1249307149495833, 0.59455127]"
      ]
     },
     "execution_count": 29,
     "metadata": {},
     "output_type": "execute_result"
    }
   ],
   "source": [
    "score = model.evaluate_generator(generator=validation_generator, steps=total_validation // batch_size)\n",
    "score"
   ]
  },
  {
   "cell_type": "markdown",
   "metadata": {},
   "source": [
    "### Model Predictions"
   ]
  },
  {
   "cell_type": "code",
   "execution_count": 30,
   "metadata": {},
   "outputs": [
    {
     "name": "stdout",
     "output_type": "stream",
     "text": [
      "50/50 [==============================] - 8s 167ms/step\n"
     ]
    }
   ],
   "source": [
    "test_generator.reset()\n",
    "prediction=model.predict_generator(test_generator,\n",
    "                                   steps=total_test // test_batch_size,\n",
    "                                   verbose=1)"
   ]
  },
  {
   "cell_type": "code",
   "execution_count": 31,
   "metadata": {},
   "outputs": [],
   "source": [
    "predicted_class_indices=np.argmax(prediction,axis=1)\n",
    "\n",
    "labels = (train_generator.class_indices)\n",
    "labels = dict((v,k) for k,v in labels.items())\n",
    "predictions = [labels[k] for k in predicted_class_indices]"
   ]
  },
  {
   "cell_type": "code",
   "execution_count": 32,
   "metadata": {},
   "outputs": [],
   "source": [
    "filenames=test_generator.filenames\n",
    "results=pd.DataFrame({\"Filename\":filenames,\n",
    "                      \"Predictions\":predictions})\n",
    "results.to_csv(\"results_with_augmentation.csv\",index=False)"
   ]
  },
  {
   "cell_type": "markdown",
   "metadata": {},
   "source": [
    "### Visualizing Training Predictions"
   ]
  },
  {
   "cell_type": "code",
   "execution_count": 33,
   "metadata": {},
   "outputs": [
    {
     "data": {
      "image/png": "[encoded data removed]",
      "text/plain": [
       "<Figure size 576x576 with 2 Axes>"
      ]
     },
     "metadata": {
      "needs_background": "light"
     },
     "output_type": "display_data"
    }
   ],
   "source": [
    "#After data augmentation\n",
    "acc = history.history['accuracy']\n",
    "val_acc = history.history['val_accuracy']\n",
    "\n",
    "loss=history.history['loss']\n",
    "val_loss=history.history['val_loss']\n",
    "\n",
    "epochs_range = range(epochs)\n",
    "\n",
    "plt.figure(figsize=(8, 8))\n",
    "plt.subplot(1, 2, 1)\n",
    "plt.plot(epochs_range, acc, label='Training Accuracy')\n",
    "plt.plot(epochs_range, val_acc, label='Validation Accuracy')\n",
    "plt.legend(loc='lower right')\n",
    "plt.title('Training and Validation Accuracy')\n",
    "\n",
    "plt.subplot(1, 2, 2)\n",
    "plt.plot(epochs_range, loss, label='Training Loss')\n",
    "plt.plot(epochs_range, val_loss, label='Validation Loss')\n",
    "plt.legend(loc='upper right')\n",
    "plt.title('Training and Validation Loss')\n",
    "plt.show()"
   ]
  },
  {
   "cell_type": "code",
   "execution_count": 34,
   "metadata": {},
   "outputs": [],
   "source": [
    "def save_history(history, fn):\n",
    "    with open(fn, 'wb') as fw:\n",
    "        pickle.dump(history.history, fw, protocol=2)"
   ]
  },
  {
   "cell_type": "code",
   "execution_count": 37,
   "metadata": {},
   "outputs": [],
   "source": [
    "save_history(history, 'history_augmented.bin')"
   ]
  },
  {
   "cell_type": "code",
   "execution_count": 41,
   "metadata": {},
   "outputs": [],
   "source": [
    "def load_history(fn):\n",
    "    with open(fn, 'rb') as fr:\n",
    "        history.history = pickle.load(fr)\n",
    "    return history"
   ]
  },
  {
   "cell_type": "code",
   "execution_count": 50,
   "metadata": {},
   "outputs": [],
   "source": [
    "def smooth_curve(points, factor=0.8):\n",
    "    smoothed = []\n",
    "    for point in points:\n",
    "        if smoothed:\n",
    "            previous = smoothed[-1]\n",
    "            smoothed.append(previous * factor + point * (1 - factor))\n",
    "        else:\n",
    "            smoothed.append(point)\n",
    "    return smoothed\n",
    "\n",
    "def plot_compare(history, steps=-1):\n",
    "    if steps < 0:\n",
    "        steps = len(history.history['accuracy'])\n",
    "    acc = smooth_curve(history.history['accuracy'][:steps])\n",
    "    val_acc = smooth_curve(history.history['val_accuracy'][:steps])\n",
    "    loss = smooth_curve(history.history['loss'][:steps])\n",
    "    val_loss = smooth_curve(history.history['val_loss'][:steps])\n",
    "    \n",
    "    plt.figure(figsize=(12, 8))\n",
    "    plt.subplot(1, 2, 1)\n",
    "    plt.plot(loss, c='#0c7cba', label='Train Loss')\n",
    "    plt.plot(val_loss, c='#0f9d58', label='Val Loss')\n",
    "    plt.xticks(range(0, len(loss), 5))\n",
    "    plt.xlim(0, len(loss))\n",
    "    plt.title('Train Loss: %.3f, Val Loss: %.3f' % (loss[-1], val_loss[-1]), fontsize=12)\n",
    "    plt.legend()\n",
    "    \n",
    "\n",
    "    plt.subplot(1, 2, 2)\n",
    "    plt.plot(acc, c='#0c7cba', label='Train Acc')\n",
    "    plt.plot(val_acc, c='#0f9d58', label='Val Acc')\n",
    "    plt.xticks(range(0, len(acc), 5))\n",
    "    plt.xlim(0, len(acc))\n",
    "    plt.title('Train Accuracy: %.3f, Val Accuracy: %.3f' % (acc[-1], val_acc[-1]), fontsize=12)\n",
    "    plt.legend()"
   ]
  },
  {
   "cell_type": "code",
   "execution_count": 51,
   "metadata": {},
   "outputs": [
    {
     "data": {
      "image/png": "[encoded data removed]",
      "text/plain": [
       "<Figure size 864x576 with 2 Axes>"
      ]
     },
     "metadata": {
      "needs_background": "light"
     },
     "output_type": "display_data"
    }
   ],
   "source": [
    "history = load_history('history_augmented.bin')\n",
    "plot_compare(history)"
   ]
  },
  {
   "cell_type": "code",
   "execution_count": null,
   "metadata": {},
   "outputs": [],
   "source": []
  }
 ],
 "metadata": {
  "kernelspec": {
   "display_name": "Python 3",
   "language": "python",
   "name": "python3"
  },
  "language_info": {
   "codemirror_mode": {
    "name": "ipython",
    "version": 3
   },
   "file_extension": ".py",
   "mimetype": "text/x-python",
   "name": "python",
   "nbconvert_exporter": "python",
   "pygments_lexer": "ipython3",
   "version": "3.7.1"
  }
 },
 "nbformat": 4,
 "nbformat_minor": 4
}
