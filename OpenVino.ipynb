{
  "nbformat": 4,
  "nbformat_minor": 0,
  "metadata": {
    "kernelspec": {
      "display_name": "Python 3",
      "language": "python",
      "name": "python3"
    },
    "language_info": {
      "codemirror_mode": {
        "name": "ipython",
        "version": 3
      },
      "file_extension": ".py",
      "mimetype": "text/x-python",
      "name": "python",
      "nbconvert_exporter": "python",
      "pygments_lexer": "ipython3",
      "version": "3.7.1"
    },
    "colab": {
      "name": "OpenVino.ipynb",
      "provenance": [],
      "include_colab_link": true
    },
    "accelerator": "GPU"
  },
  "cells": [
    {
      "cell_type": "markdown",
      "metadata": {
        "id": "view-in-github",
        "colab_type": "text"
      },
      "source": [
        "<a href=\"https://colab.research.google.com/github/swastipriya/Deep-Learning/blob/master/OpenVino.ipynb\" target=\"_parent\"><img src=\"https://colab.research.google.com/assets/colab-badge.svg\" alt=\"Open In Colab\"/></a>"
      ]
    },
    {
      "cell_type": "code",
      "metadata": {
        "id": "1nqFS2aBzXOy",
        "colab_type": "code",
        "colab": {
          "base_uri": "https://localhost:8080/",
          "height": 124
        },
        "outputId": "21daba59-1057-4fca-9010-3dadc93d6985"
      },
      "source": [
        "from google.colab import drive\n",
        "drive.mount('/content/drive')"
      ],
      "execution_count": 1,
      "outputs": [
        {
          "output_type": "stream",
          "text": [
            "Go to this URL in a browser: https://accounts.google.com/o/oauth2/auth?client_id=947318989803-6bn6qk8qdgf4n4g3pfee6491hc0brc4i.apps.googleusercontent.com&redirect_uri=urn%3aietf%3awg%3aoauth%3a2.0%3aoob&response_type=code&scope=email%20https%3a%2f%2fwww.googleapis.com%2fauth%2fdocs.test%20https%3a%2f%2fwww.googleapis.com%2fauth%2fdrive%20https%3a%2f%2fwww.googleapis.com%2fauth%2fdrive.photos.readonly%20https%3a%2f%2fwww.googleapis.com%2fauth%2fpeopleapi.readonly\n",
            "\n",
            "Enter your authorization code:\n",
            "··········\n",
            "Mounted at /content/drive\n"
          ],
          "name": "stdout"
        }
      ]
    },
    {
      "cell_type": "code",
      "metadata": {
        "id": "ZSNQ7HbqzdLe",
        "colab_type": "code",
        "colab": {}
      },
      "source": [
        "from torchvision import transforms\n",
        "from torch.utils.data import Dataset, DataLoader\n",
        "import glob\n",
        "import torch.nn as nn\n",
        "import os.path as osp\n",
        "import torchvision\n",
        "import matplotlib.pyplot as plt\n",
        "import torch\n",
        "#import rotateImage\n",
        "import cv2\n",
        "import numpy as np\n",
        "#import split_folders\n",
        "import random\n",
        "import torch.backends.cudnn as cudnn\n",
        "import torch.optim as optim\n",
        "from random import choice\n",
        "from collections import OrderedDict"
      ],
      "execution_count": 2,
      "outputs": []
    },
    {
      "cell_type": "code",
      "metadata": {
        "id": "ZvY-UWIO-xrn",
        "colab_type": "code",
        "colab": {}
      },
      "source": [
        "the_model = torch.load('/content/drive/My Drive/00_openvino/resnet50_places365.pth.tar')"
      ],
      "execution_count": 3,
      "outputs": []
    },
    {
      "cell_type": "code",
      "metadata": {
        "id": "0WSTLKcs-7-j",
        "colab_type": "code",
        "colab": {
          "base_uri": "https://localhost:8080/",
          "height": 35
        },
        "outputId": "4a5ee551-daf8-4aa5-c1fd-fddc40e716c5"
      },
      "source": [
        "type(the_model)"
      ],
      "execution_count": 6,
      "outputs": [
        {
          "output_type": "execute_result",
          "data": {
            "text/plain": [
              "dict"
            ]
          },
          "metadata": {
            "tags": []
          },
          "execution_count": 6
        }
      ]
    },
    {
      "cell_type": "code",
      "metadata": {
        "id": "Bh02rgbL_KQU",
        "colab_type": "code",
        "colab": {
          "base_uri": "https://localhost:8080/",
          "height": 35
        },
        "outputId": "a51259ef-563d-4989-f93a-b0f5d58bb402"
      },
      "source": [
        "print(the_model.keys())"
      ],
      "execution_count": 12,
      "outputs": [
        {
          "output_type": "stream",
          "text": [
            "dict_keys(['state_dict', 'epoch', 'arch', 'best_prec1'])\n"
          ],
          "name": "stdout"
        }
      ]
    },
    {
      "cell_type": "code",
      "metadata": {
        "id": "H_LfesnD_c_s",
        "colab_type": "code",
        "colab": {
          "base_uri": "https://localhost:8080/",
          "height": 35
        },
        "outputId": "c9368ee3-b88d-4768-b6c1-bbb467630b88"
      },
      "source": [
        "the_model['epoch']"
      ],
      "execution_count": 15,
      "outputs": [
        {
          "output_type": "execute_result",
          "data": {
            "text/plain": [
              "66"
            ]
          },
          "metadata": {
            "tags": []
          },
          "execution_count": 15
        }
      ]
    },
    {
      "cell_type": "code",
      "metadata": {
        "id": "RwDbMzlyAEKK",
        "colab_type": "code",
        "colab": {
          "base_uri": "https://localhost:8080/",
          "height": 35
        },
        "outputId": "d5382176-ab09-4af3-acc0-9a3f64ddaa56"
      },
      "source": [
        "the_model['arch']"
      ],
      "execution_count": 16,
      "outputs": [
        {
          "output_type": "execute_result",
          "data": {
            "application/vnd.google.colaboratory.intrinsic+json": {
              "type": "string"
            },
            "text/plain": [
              "'resnet50'"
            ]
          },
          "metadata": {
            "tags": []
          },
          "execution_count": 16
        }
      ]
    },
    {
      "cell_type": "code",
      "metadata": {
        "id": "5ZE6prPPAXvx",
        "colab_type": "code",
        "colab": {
          "base_uri": "https://localhost:8080/",
          "height": 35
        },
        "outputId": "fb831483-559b-478e-9c35-57a745667cb4"
      },
      "source": [
        "the_model['best_prec1']"
      ],
      "execution_count": 17,
      "outputs": [
        {
          "output_type": "execute_result",
          "data": {
            "text/plain": [
              "55.57260273972603"
            ]
          },
          "metadata": {
            "tags": []
          },
          "execution_count": 17
        }
      ]
    },
    {
      "cell_type": "code",
      "metadata": {
        "id": "kQq1xpuNAi4W",
        "colab_type": "code",
        "colab": {}
      },
      "source": [
        "def load_model(checkpoint_path):\n",
        "  chpt = torch.load(checkpoint_path)\n",
        "  net = torchvision.models.resnet50(pretrained=True)\n",
        "  # fc = nn.Sequential(OrderedDict([\n",
        "  #   (\"dropout\", nn.Dropout(0.4)),\n",
        "  #   (\"out\", nn.Linear(2048, 11))]))\n",
        "  # net.fc = fc\n",
        "\n",
        "  for param, x in net.named_parameters():\n",
        "    if param.startswith(\"fc.out\"):\n",
        "        x.requires_grad = True\n",
        "    else:\n",
        "        x.requires_grad = False\n",
        "\n",
        "  device = torch.device(\"cuda:0\" if torch.cuda.is_available() else \"cpu\")\n",
        "  #net.class_to_idx = classes\n",
        "  net = net.to(device)\n",
        "  criterion = nn.CrossEntropyLoss()\n",
        "  optimizer = optim.SGD(net.parameters(), lr=0.001, momentum=0.9, weight_decay=5e-4)\n",
        "    \n",
        "  # net.class_to_idx = chpt['class_to_idx']\n",
        "    \n",
        "     \n",
        "    \n",
        "  net.load_state_dict(chpt['state_dict'], strict=False)\n",
        "    \n",
        "  return net"
      ],
      "execution_count": 24,
      "outputs": []
    },
    {
      "cell_type": "code",
      "metadata": {
        "id": "arm5pmF1A5vk",
        "colab_type": "code",
        "colab": {}
      },
      "source": [
        "the_model = load_model('/content/drive/My Drive/00_openvino/resnet50_places365.pth.tar')"
      ],
      "execution_count": 25,
      "outputs": []
    },
    {
      "cell_type": "code",
      "metadata": {
        "id": "zQM1WsRdBZEF",
        "colab_type": "code",
        "colab": {
          "base_uri": "https://localhost:8080/",
          "height": 35
        },
        "outputId": "3ad4d4f8-c861-4b1c-b96a-4154256a8cce"
      },
      "source": [
        "type(the_model)"
      ],
      "execution_count": 22,
      "outputs": [
        {
          "output_type": "execute_result",
          "data": {
            "text/plain": [
              "torchvision.models.resnet.ResNet"
            ]
          },
          "metadata": {
            "tags": []
          },
          "execution_count": 22
        }
      ]
    },
    {
      "cell_type": "code",
      "metadata": {
        "id": "PkuO7eJdCc16",
        "colab_type": "code",
        "colab": {
          "base_uri": "https://localhost:8080/",
          "height": 1000
        },
        "outputId": "5cd9d4e0-f15a-4769-df74-3ed615bb4f15"
      },
      "source": [
        "for name, param in the_model.named_parameters():\n",
        "    print(name, ':', param.requires_grad)"
      ],
      "execution_count": 26,
      "outputs": [
        {
          "output_type": "stream",
          "text": [
            "conv1.weight : False\n",
            "bn1.weight : False\n",
            "bn1.bias : False\n",
            "layer1.0.conv1.weight : False\n",
            "layer1.0.bn1.weight : False\n",
            "layer1.0.bn1.bias : False\n",
            "layer1.0.conv2.weight : False\n",
            "layer1.0.bn2.weight : False\n",
            "layer1.0.bn2.bias : False\n",
            "layer1.0.conv3.weight : False\n",
            "layer1.0.bn3.weight : False\n",
            "layer1.0.bn3.bias : False\n",
            "layer1.0.downsample.0.weight : False\n",
            "layer1.0.downsample.1.weight : False\n",
            "layer1.0.downsample.1.bias : False\n",
            "layer1.1.conv1.weight : False\n",
            "layer1.1.bn1.weight : False\n",
            "layer1.1.bn1.bias : False\n",
            "layer1.1.conv2.weight : False\n",
            "layer1.1.bn2.weight : False\n",
            "layer1.1.bn2.bias : False\n",
            "layer1.1.conv3.weight : False\n",
            "layer1.1.bn3.weight : False\n",
            "layer1.1.bn3.bias : False\n",
            "layer1.2.conv1.weight : False\n",
            "layer1.2.bn1.weight : False\n",
            "layer1.2.bn1.bias : False\n",
            "layer1.2.conv2.weight : False\n",
            "layer1.2.bn2.weight : False\n",
            "layer1.2.bn2.bias : False\n",
            "layer1.2.conv3.weight : False\n",
            "layer1.2.bn3.weight : False\n",
            "layer1.2.bn3.bias : False\n",
            "layer2.0.conv1.weight : False\n",
            "layer2.0.bn1.weight : False\n",
            "layer2.0.bn1.bias : False\n",
            "layer2.0.conv2.weight : False\n",
            "layer2.0.bn2.weight : False\n",
            "layer2.0.bn2.bias : False\n",
            "layer2.0.conv3.weight : False\n",
            "layer2.0.bn3.weight : False\n",
            "layer2.0.bn3.bias : False\n",
            "layer2.0.downsample.0.weight : False\n",
            "layer2.0.downsample.1.weight : False\n",
            "layer2.0.downsample.1.bias : False\n",
            "layer2.1.conv1.weight : False\n",
            "layer2.1.bn1.weight : False\n",
            "layer2.1.bn1.bias : False\n",
            "layer2.1.conv2.weight : False\n",
            "layer2.1.bn2.weight : False\n",
            "layer2.1.bn2.bias : False\n",
            "layer2.1.conv3.weight : False\n",
            "layer2.1.bn3.weight : False\n",
            "layer2.1.bn3.bias : False\n",
            "layer2.2.conv1.weight : False\n",
            "layer2.2.bn1.weight : False\n",
            "layer2.2.bn1.bias : False\n",
            "layer2.2.conv2.weight : False\n",
            "layer2.2.bn2.weight : False\n",
            "layer2.2.bn2.bias : False\n",
            "layer2.2.conv3.weight : False\n",
            "layer2.2.bn3.weight : False\n",
            "layer2.2.bn3.bias : False\n",
            "layer2.3.conv1.weight : False\n",
            "layer2.3.bn1.weight : False\n",
            "layer2.3.bn1.bias : False\n",
            "layer2.3.conv2.weight : False\n",
            "layer2.3.bn2.weight : False\n",
            "layer2.3.bn2.bias : False\n",
            "layer2.3.conv3.weight : False\n",
            "layer2.3.bn3.weight : False\n",
            "layer2.3.bn3.bias : False\n",
            "layer3.0.conv1.weight : False\n",
            "layer3.0.bn1.weight : False\n",
            "layer3.0.bn1.bias : False\n",
            "layer3.0.conv2.weight : False\n",
            "layer3.0.bn2.weight : False\n",
            "layer3.0.bn2.bias : False\n",
            "layer3.0.conv3.weight : False\n",
            "layer3.0.bn3.weight : False\n",
            "layer3.0.bn3.bias : False\n",
            "layer3.0.downsample.0.weight : False\n",
            "layer3.0.downsample.1.weight : False\n",
            "layer3.0.downsample.1.bias : False\n",
            "layer3.1.conv1.weight : False\n",
            "layer3.1.bn1.weight : False\n",
            "layer3.1.bn1.bias : False\n",
            "layer3.1.conv2.weight : False\n",
            "layer3.1.bn2.weight : False\n",
            "layer3.1.bn2.bias : False\n",
            "layer3.1.conv3.weight : False\n",
            "layer3.1.bn3.weight : False\n",
            "layer3.1.bn3.bias : False\n",
            "layer3.2.conv1.weight : False\n",
            "layer3.2.bn1.weight : False\n",
            "layer3.2.bn1.bias : False\n",
            "layer3.2.conv2.weight : False\n",
            "layer3.2.bn2.weight : False\n",
            "layer3.2.bn2.bias : False\n",
            "layer3.2.conv3.weight : False\n",
            "layer3.2.bn3.weight : False\n",
            "layer3.2.bn3.bias : False\n",
            "layer3.3.conv1.weight : False\n",
            "layer3.3.bn1.weight : False\n",
            "layer3.3.bn1.bias : False\n",
            "layer3.3.conv2.weight : False\n",
            "layer3.3.bn2.weight : False\n",
            "layer3.3.bn2.bias : False\n",
            "layer3.3.conv3.weight : False\n",
            "layer3.3.bn3.weight : False\n",
            "layer3.3.bn3.bias : False\n",
            "layer3.4.conv1.weight : False\n",
            "layer3.4.bn1.weight : False\n",
            "layer3.4.bn1.bias : False\n",
            "layer3.4.conv2.weight : False\n",
            "layer3.4.bn2.weight : False\n",
            "layer3.4.bn2.bias : False\n",
            "layer3.4.conv3.weight : False\n",
            "layer3.4.bn3.weight : False\n",
            "layer3.4.bn3.bias : False\n",
            "layer3.5.conv1.weight : False\n",
            "layer3.5.bn1.weight : False\n",
            "layer3.5.bn1.bias : False\n",
            "layer3.5.conv2.weight : False\n",
            "layer3.5.bn2.weight : False\n",
            "layer3.5.bn2.bias : False\n",
            "layer3.5.conv3.weight : False\n",
            "layer3.5.bn3.weight : False\n",
            "layer3.5.bn3.bias : False\n",
            "layer4.0.conv1.weight : False\n",
            "layer4.0.bn1.weight : False\n",
            "layer4.0.bn1.bias : False\n",
            "layer4.0.conv2.weight : False\n",
            "layer4.0.bn2.weight : False\n",
            "layer4.0.bn2.bias : False\n",
            "layer4.0.conv3.weight : False\n",
            "layer4.0.bn3.weight : False\n",
            "layer4.0.bn3.bias : False\n",
            "layer4.0.downsample.0.weight : False\n",
            "layer4.0.downsample.1.weight : False\n",
            "layer4.0.downsample.1.bias : False\n",
            "layer4.1.conv1.weight : False\n",
            "layer4.1.bn1.weight : False\n",
            "layer4.1.bn1.bias : False\n",
            "layer4.1.conv2.weight : False\n",
            "layer4.1.bn2.weight : False\n",
            "layer4.1.bn2.bias : False\n",
            "layer4.1.conv3.weight : False\n",
            "layer4.1.bn3.weight : False\n",
            "layer4.1.bn3.bias : False\n",
            "layer4.2.conv1.weight : False\n",
            "layer4.2.bn1.weight : False\n",
            "layer4.2.bn1.bias : False\n",
            "layer4.2.conv2.weight : False\n",
            "layer4.2.bn2.weight : False\n",
            "layer4.2.bn2.bias : False\n",
            "layer4.2.conv3.weight : False\n",
            "layer4.2.bn3.weight : False\n",
            "layer4.2.bn3.bias : False\n",
            "fc.weight : False\n",
            "fc.bias : False\n"
          ],
          "name": "stdout"
        }
      ]
    },
    {
      "cell_type": "code",
      "metadata": {
        "id": "DJlPCirEChUB",
        "colab_type": "code",
        "colab": {
          "base_uri": "https://localhost:8080/",
          "height": 35
        },
        "outputId": "c62727d0-fbe9-4cfd-e974-35868cc0fbc3"
      },
      "source": [
        "dummy_input = torch.randn(1, 3, 224, 224, device='cuda')\n",
        "onnx_path =  \"/content/drive/My Drive/00_openvino/pytorch_resnet50_places365.onnx\"\n",
        "\n",
        "torch.onnx.export(the_model, dummy_input, onnx_path, verbose=False)\n",
        "print('Model exported to ' + onnx_path)"
      ],
      "execution_count": 27,
      "outputs": [
        {
          "output_type": "stream",
          "text": [
            "Model exported to /content/drive/My Drive/00_openvino/pytorch_resnet50_places365.onnx\n"
          ],
          "name": "stdout"
        }
      ]
    },
    {
      "cell_type": "code",
      "metadata": {
        "id": "FDBWSeOQC7pJ",
        "colab_type": "code",
        "colab": {}
      },
      "source": [
        ""
      ],
      "execution_count": null,
      "outputs": []
    }
  ]
}