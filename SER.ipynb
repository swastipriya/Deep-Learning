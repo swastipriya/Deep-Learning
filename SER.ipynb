{
  "nbformat": 4,
  "nbformat_minor": 0,
  "metadata": {
    "kernelspec": {
      "display_name": "Python 3",
      "language": "python",
      "name": "python3"
    },
    "language_info": {
      "codemirror_mode": {
        "name": "ipython",
        "version": 3
      },
      "file_extension": ".py",
      "mimetype": "text/x-python",
      "name": "python",
      "nbconvert_exporter": "python",
      "pygments_lexer": "ipython3",
      "version": "3.7.1"
    },
    "colab": {
      "name": "Untitled.ipynb",
      "provenance": [],
      "include_colab_link": true
    },
    "accelerator": "GPU"
  },
  "cells": [
    {
      "cell_type": "markdown",
      "metadata": {
        "id": "view-in-github",
        "colab_type": "text"
      },
      "source": [
        "<a href=\"https://colab.research.google.com/github/swastipriya/Deep-Learning/blob/master/SER.ipynb\" target=\"_parent\"><img src=\"https://colab.research.google.com/assets/colab-badge.svg\" alt=\"Open In Colab\"/></a>"
      ]
    },
    {
      "cell_type": "code",
      "metadata": {
        "id": "SwUnuFEfQaPC",
        "colab": {
          "base_uri": "https://localhost:8080/"
        },
        "outputId": "b240e4d6-7de9-4d91-bf45-2bec2ab55153"
      },
      "source": [
        "!git clone https://github.com/x4nth055/emotion-recognition-using-speech.git"
      ],
      "execution_count": 1,
      "outputs": [
        {
          "output_type": "stream",
          "text": [
            "Cloning into 'emotion-recognition-using-speech'...\n",
            "remote: Enumerating objects: 9, done.\u001b[K\n",
            "remote: Counting objects: 100% (9/9), done.\u001b[K\n",
            "remote: Compressing objects: 100% (9/9), done.\u001b[K\n",
            "remote: Total 7621 (delta 2), reused 2 (delta 0), pack-reused 7612\u001b[K\n",
            "Receiving objects: 100% (7621/7621), 966.32 MiB | 31.04 MiB/s, done.\n",
            "Resolving deltas: 100% (474/474), done.\n",
            "Checking out files: 100% (6854/6854), done.\n"
          ],
          "name": "stdout"
        }
      ]
    },
    {
      "cell_type": "code",
      "metadata": {
        "id": "8hs8CyQKoe0c",
        "colab": {
          "base_uri": "https://localhost:8080/"
        },
        "outputId": "c256e1ca-e3b1-486d-c485-c105b304edd4"
      },
      "source": [
        "%cd  /content/emotion-recognition-using-speech"
      ],
      "execution_count": 2,
      "outputs": [
        {
          "output_type": "stream",
          "text": [
            "/content/emotion-recognition-using-speech\n"
          ],
          "name": "stdout"
        }
      ]
    },
    {
      "cell_type": "code",
      "metadata": {
        "id": "7Ks1XHKbyBhC"
      },
      "source": [
        "import tensorflow"
      ],
      "execution_count": 4,
      "outputs": []
    },
    {
      "cell_type": "code",
      "metadata": {
        "id": "J7oJSVL1nnBO",
        "colab": {
          "base_uri": "https://localhost:8080/",
          "height": 686
        },
        "outputId": "a03b5261-6f40-46e6-9b02-364c861d9bf7"
      },
      "source": [
        "from deep_emotion_recognition import DeepEmotionRecognizer\r\n",
        "# initialize instance\r\n",
        "# inherited from emotion_recognition.EmotionRecognizer\r\n",
        "# default parameters (LSTM: 128x2, Dense:128x2)\r\n",
        "deeprec = DeepEmotionRecognizer(emotions=['angry', 'sad', 'neutral', 'happy'], n_rnn_layers=2, n_dense_layers=2, rnn_units=128, dense_units=128)\r\n",
        "# train the model\r\n",
        "deeprec.train()\r\n",
        "# get the accuracy\r\n",
        "print(deeprec.test_score())\r\n",
        "# predict angry audio sample\r\n",
        "# prediction = deeprec.predict('data/validation/Actor_10/03-02-05-02-02-02-10_angry.wav')\r\n",
        "# print(f\"Prediction: {prediction}\")"
      ],
      "execution_count": 5,
      "outputs": [
        {
          "output_type": "stream",
          "text": [
            "[TESS&RAVDESS] There are 809 training audio files for category:angry\n",
            "[TESS&RAVDESS] There are 148 testing audio files for category:angry\n",
            "[TESS&RAVDESS] There are 813 training audio files for category:sad\n",
            "[TESS&RAVDESS] There are 147 testing audio files for category:sad\n",
            "[TESS&RAVDESS] There are 586 training audio files for category:neutral\n",
            "[TESS&RAVDESS] There are 94 testing audio files for category:neutral\n",
            "[TESS&RAVDESS] There are 806 training audio files for category:happy\n",
            "[TESS&RAVDESS] There are 148 testing audio files for category:happy\n",
            "[+] Writed TESS & RAVDESS DB CSV File\n",
            "[EMO-DB] Total files to write: 339\n",
            "[EMO-DB] Training samples: 271\n",
            "[EMO-DB] Testing samples: 67\n",
            "[+] Writed EMO-DB CSV File\n",
            "[Custom Dataset] There are 49 training audio files for category:neutral\n",
            "[Custom Dataset] There are 33 testing audio files for category:neutral\n",
            "[Custom Dataset] There are 48 training audio files for category:happy\n",
            "[Custom Dataset] There are 23 testing audio files for category:happy\n",
            "[+] Writed Custom DB CSV File\n",
            "[+] Data loaded\n"
          ],
          "name": "stdout"
        },
        {
          "output_type": "error",
          "ename": "NameError",
          "evalue": "ignored",
          "traceback": [
            "\u001b[0;31m---------------------------------------------------------------------------\u001b[0m",
            "\u001b[0;31mNameError\u001b[0m                                 Traceback (most recent call last)",
            "\u001b[0;32m<ipython-input-5-3dd44aa45cb3>\u001b[0m in \u001b[0;36m<module>\u001b[0;34m()\u001b[0m\n\u001b[1;32m      5\u001b[0m \u001b[0mdeeprec\u001b[0m \u001b[0;34m=\u001b[0m \u001b[0mDeepEmotionRecognizer\u001b[0m\u001b[0;34m(\u001b[0m\u001b[0memotions\u001b[0m\u001b[0;34m=\u001b[0m\u001b[0;34m[\u001b[0m\u001b[0;34m'angry'\u001b[0m\u001b[0;34m,\u001b[0m \u001b[0;34m'sad'\u001b[0m\u001b[0;34m,\u001b[0m \u001b[0;34m'neutral'\u001b[0m\u001b[0;34m,\u001b[0m \u001b[0;34m'happy'\u001b[0m\u001b[0;34m]\u001b[0m\u001b[0;34m,\u001b[0m \u001b[0mn_rnn_layers\u001b[0m\u001b[0;34m=\u001b[0m\u001b[0;36m2\u001b[0m\u001b[0;34m,\u001b[0m \u001b[0mn_dense_layers\u001b[0m\u001b[0;34m=\u001b[0m\u001b[0;36m2\u001b[0m\u001b[0;34m,\u001b[0m \u001b[0mrnn_units\u001b[0m\u001b[0;34m=\u001b[0m\u001b[0;36m128\u001b[0m\u001b[0;34m,\u001b[0m \u001b[0mdense_units\u001b[0m\u001b[0;34m=\u001b[0m\u001b[0;36m128\u001b[0m\u001b[0;34m)\u001b[0m\u001b[0;34m\u001b[0m\u001b[0;34m\u001b[0m\u001b[0m\n\u001b[1;32m      6\u001b[0m \u001b[0;31m# train the model\u001b[0m\u001b[0;34m\u001b[0m\u001b[0;34m\u001b[0m\u001b[0;34m\u001b[0m\u001b[0m\n\u001b[0;32m----> 7\u001b[0;31m \u001b[0mdeeprec\u001b[0m\u001b[0;34m.\u001b[0m\u001b[0mtrain\u001b[0m\u001b[0;34m(\u001b[0m\u001b[0;34m)\u001b[0m\u001b[0;34m\u001b[0m\u001b[0;34m\u001b[0m\u001b[0m\n\u001b[0m\u001b[1;32m      8\u001b[0m \u001b[0;31m# get the accuracy\u001b[0m\u001b[0;34m\u001b[0m\u001b[0;34m\u001b[0m\u001b[0;34m\u001b[0m\u001b[0m\n\u001b[1;32m      9\u001b[0m \u001b[0mprint\u001b[0m\u001b[0;34m(\u001b[0m\u001b[0mdeeprec\u001b[0m\u001b[0;34m.\u001b[0m\u001b[0mtest_score\u001b[0m\u001b[0;34m(\u001b[0m\u001b[0;34m)\u001b[0m\u001b[0;34m)\u001b[0m\u001b[0;34m\u001b[0m\u001b[0;34m\u001b[0m\u001b[0m\n",
            "\u001b[0;32m/content/emotion-recognition-using-speech/deep_emotion_recognition.py\u001b[0m in \u001b[0;36mtrain\u001b[0;34m(self, override)\u001b[0m\n\u001b[1;32m    230\u001b[0m         \u001b[0;31m# if model isn't created yet, create it\u001b[0m\u001b[0;34m\u001b[0m\u001b[0;34m\u001b[0m\u001b[0;34m\u001b[0m\u001b[0m\n\u001b[1;32m    231\u001b[0m         \u001b[0;32mif\u001b[0m \u001b[0;32mnot\u001b[0m \u001b[0mself\u001b[0m\u001b[0;34m.\u001b[0m\u001b[0mmodel_created\u001b[0m\u001b[0;34m:\u001b[0m\u001b[0;34m\u001b[0m\u001b[0;34m\u001b[0m\u001b[0m\n\u001b[0;32m--> 232\u001b[0;31m             \u001b[0mself\u001b[0m\u001b[0;34m.\u001b[0m\u001b[0mcreate_model\u001b[0m\u001b[0;34m(\u001b[0m\u001b[0;34m)\u001b[0m\u001b[0;34m\u001b[0m\u001b[0;34m\u001b[0m\u001b[0m\n\u001b[0m\u001b[1;32m    233\u001b[0m \u001b[0;34m\u001b[0m\u001b[0m\n\u001b[1;32m    234\u001b[0m         \u001b[0;31m# if the model already exists and trained, just load the weights and return\u001b[0m\u001b[0;34m\u001b[0m\u001b[0;34m\u001b[0m\u001b[0;34m\u001b[0m\u001b[0m\n",
            "\u001b[0;32m/content/emotion-recognition-using-speech/deep_emotion_recognition.py\u001b[0m in \u001b[0;36mcreate_model\u001b[0;34m(self)\u001b[0m\n\u001b[1;32m    184\u001b[0m         \u001b[0;32mif\u001b[0m \u001b[0mself\u001b[0m\u001b[0;34m.\u001b[0m\u001b[0mclassification\u001b[0m\u001b[0;34m:\u001b[0m\u001b[0;34m\u001b[0m\u001b[0;34m\u001b[0m\u001b[0m\n\u001b[1;32m    185\u001b[0m             \u001b[0mmodel\u001b[0m\u001b[0;34m.\u001b[0m\u001b[0madd\u001b[0m\u001b[0;34m(\u001b[0m\u001b[0mDense\u001b[0m\u001b[0;34m(\u001b[0m\u001b[0mself\u001b[0m\u001b[0;34m.\u001b[0m\u001b[0moutput_dim\u001b[0m\u001b[0;34m,\u001b[0m \u001b[0mactivation\u001b[0m\u001b[0;34m=\u001b[0m\u001b[0;34m\"softmax\"\u001b[0m\u001b[0;34m)\u001b[0m\u001b[0;34m)\u001b[0m\u001b[0;34m\u001b[0m\u001b[0;34m\u001b[0m\u001b[0m\n\u001b[0;32m--> 186\u001b[0;31m             \u001b[0mmodel\u001b[0m\u001b[0;34m.\u001b[0m\u001b[0mcompile\u001b[0m\u001b[0;34m(\u001b[0m\u001b[0mloss\u001b[0m\u001b[0;34m=\u001b[0m\u001b[0mself\u001b[0m\u001b[0;34m.\u001b[0m\u001b[0mloss\u001b[0m\u001b[0;34m,\u001b[0m \u001b[0mmetrics\u001b[0m\u001b[0;34m=\u001b[0m\u001b[0;34m[\u001b[0m\u001b[0;34m\"accuracy\"\u001b[0m\u001b[0;34m]\u001b[0m\u001b[0;34m,\u001b[0m \u001b[0moptimizer\u001b[0m\u001b[0;34m=\u001b[0m\u001b[0mtensorflow\u001b[0m\u001b[0;34m.\u001b[0m\u001b[0mkeras\u001b[0m\u001b[0;34m.\u001b[0m\u001b[0moptimizers\u001b[0m\u001b[0;34m.\u001b[0m\u001b[0mAdam\u001b[0m\u001b[0;34m(\u001b[0m\u001b[0mlearning_rate\u001b[0m\u001b[0;34m=\u001b[0m\u001b[0;36m0.01\u001b[0m\u001b[0;34m)\u001b[0m\u001b[0;34m)\u001b[0m\u001b[0;34m\u001b[0m\u001b[0;34m\u001b[0m\u001b[0m\n\u001b[0m\u001b[1;32m    187\u001b[0m         \u001b[0;32melse\u001b[0m\u001b[0;34m:\u001b[0m\u001b[0;34m\u001b[0m\u001b[0;34m\u001b[0m\u001b[0m\n\u001b[1;32m    188\u001b[0m             \u001b[0mmodel\u001b[0m\u001b[0;34m.\u001b[0m\u001b[0madd\u001b[0m\u001b[0;34m(\u001b[0m\u001b[0mDense\u001b[0m\u001b[0;34m(\u001b[0m\u001b[0;36m1\u001b[0m\u001b[0;34m,\u001b[0m \u001b[0mactivation\u001b[0m\u001b[0;34m=\u001b[0m\u001b[0;34m\"linear\"\u001b[0m\u001b[0;34m)\u001b[0m\u001b[0;34m)\u001b[0m\u001b[0;34m\u001b[0m\u001b[0;34m\u001b[0m\u001b[0m\n",
            "\u001b[0;31mNameError\u001b[0m: name 'tensorflow' is not defined"
          ]
        }
      ]
    },
    {
      "cell_type": "code",
      "metadata": {
        "id": "9JnUGeb22Q8I",
        "colab": {
          "base_uri": "https://localhost:8080/"
        },
        "outputId": "c91e945c-0339-4a81-8538-0bdc527a1d2b"
      },
      "source": [
        "import os\r\n",
        "# 0.5 dropout\r\n",
        "path = \"/content/emotion-recognition-using-speech/test_audio/\"\r\n",
        "all_files = os.listdir(path)\r\n",
        "print(all_files)\r\n",
        "list_files = [path + name for name in all_files]\r\n",
        "\r\n",
        "# print(\"list_file\",list_files)\r\n",
        "\r\n",
        "for audio_file in range(len(list_files)):\r\n",
        "    prediction = deeprec.predict(list_files[audio_file])\r\n",
        "    print(all_files[audio_file],\"\\t Prediction:\",prediction)\r\n",
        "    #print(f\"Prediction: {prediction}\")\r\n",
        "    \r\n",
        "\r\n",
        "# print(\"Prediction:\",prediction)"
      ],
      "execution_count": 5,
      "outputs": [
        {
          "output_type": "stream",
          "text": [
            "['swasti_2_happy.wav', 'swasti_happy.wav', 'swasti__2_angry.wav', 'Parag_neutral.wav', 'Parag_2_angry.wav', 'Parag_4_neutral.wav', 'Parag_sad.wav', 'Parag_2_happy.wav', 'swasti_2_neutral.wav', 'Parag_angry.wav', 'swasti_sad.wav', 'Parag_3_neutral.wav', 'swasti_neutral.wav']\n",
            "swasti_2_happy.wav \t Prediction: angry\n",
            "swasti_happy.wav \t Prediction: angry\n",
            "swasti__2_angry.wav \t Prediction: happy\n",
            "Parag_neutral.wav \t Prediction: neutral\n",
            "Parag_2_angry.wav \t Prediction: happy\n",
            "Parag_4_neutral.wav \t Prediction: sad\n",
            "Parag_sad.wav \t Prediction: happy\n",
            "Parag_2_happy.wav \t Prediction: happy\n",
            "swasti_2_neutral.wav \t Prediction: angry\n",
            "Parag_angry.wav \t Prediction: happy\n",
            "swasti_sad.wav \t Prediction: angry\n",
            "Parag_3_neutral.wav \t Prediction: happy\n",
            "swasti_neutral.wav \t Prediction: angry\n"
          ],
          "name": "stdout"
        }
      ]
    },
    {
      "cell_type": "code",
      "metadata": {
        "id": "NqTMf9sE3xP6",
        "outputId": "edb7b4bf-9a36-4608-acbb-60d8e301a473",
        "colab": {
          "base_uri": "https://localhost:8080/"
        }
      },
      "source": [
        "!mkdir old_data_files\r\n",
        "!mv /content/emotion-recognition-using-speech/test_custom.csv /content/emotion-recognition-using-speech/old_data_files/test_custom.csv\r\n",
        "!mv /content/emotion-recognition-using-speech/test_emodb.csv /content/emotion-recognition-using-speech/old_data_files/test_emodb.csv\r\n",
        "!mv /content/emotion-recognition-using-speech/test_tess_ravdess.csv /content/emotion-recognition-using-speech/old_data_files/test_tess_ravdess.csv\r\n",
        "!mv /content/emotion-recognition-using-speech/train_custom.csv /content/emotion-recognition-using-speech/old_data_files/train_custom.csv\r\n",
        "!mv /content/emotion-recognition-using-speech/train_emodb.csv /content/emotion-recognition-using-speech/old_data_files/train_emodb.csv\r\n",
        "!mv /content/emotion-recognition-using-speech/train_tess_ravdess.csv /content/emotion-recognition-using-speech/old_data_files/train_tess_ravdess.csv"
      ],
      "execution_count": 12,
      "outputs": [
        {
          "output_type": "stream",
          "text": [
            "mv: cannot stat '/content/emotion-recognition-using-speech/test_custom.csv': No such file or directory\n",
            "mv: cannot stat '/content/emotion-recognition-using-speech/test_emodb.csv': No such file or directory\n",
            "mv: cannot stat '/content/emotion-recognition-using-speech/test_tess_ravdess.csv': No such file or directory\n",
            "mv: cannot stat '/content/emotion-recognition-using-speech/train_custom.csv': No such file or directory\n",
            "mv: cannot stat '/content/emotion-recognition-using-speech/train_emodb.csv': No such file or directory\n",
            "mv: cannot stat '/content/emotion-recognition-using-speech/train_tess_ravdess.csv': No such file or directory\n"
          ],
          "name": "stdout"
        }
      ]
    },
    {
      "cell_type": "code",
      "metadata": {
        "id": "3uQ0PHqjntq4",
        "outputId": "5a000f11-6584-4e63-8226-08aa9e0fc4c9",
        "colab": {
          "base_uri": "https://localhost:8080/"
        }
      },
      "source": [
        "!mkdir results\r\n",
        "!mkdir features"
      ],
      "execution_count": 13,
      "outputs": [
        {
          "output_type": "stream",
          "text": [
            "mkdir: cannot create directory ‘results’: File exists\n",
            "mkdir: cannot create directory ‘features’: File exists\n"
          ],
          "name": "stdout"
        }
      ]
    },
    {
      "cell_type": "code",
      "metadata": {
        "id": "2SDPqacIuK6f"
      },
      "source": [
        ""
      ],
      "execution_count": null,
      "outputs": []
    }
  ]
}