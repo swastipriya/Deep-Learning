{
  "nbformat": 4,
  "nbformat_minor": 0,
  "metadata": {
    "colab": {
      "name": "Transfer Learning with VGG16.ipynb",
      "provenance": []
    },
    "kernelspec": {
      "name": "python3",
      "display_name": "Python 3"
    },
    "accelerator": "GPU"
  },
  "cells": [
    {
      "cell_type": "code",
      "metadata": {
        "id": "nCxWc3PjQBWv",
        "colab_type": "code",
        "colab": {
          "base_uri": "https://localhost:8080/",
          "height": 35
        },
        "outputId": "863ae3b2-1168-4340-a742-16b77a597952"
      },
      "source": [
        "from google.colab import drive\n",
        "drive.mount('/content/drive')"
      ],
      "execution_count": 1,
      "outputs": [
        {
          "output_type": "stream",
          "text": [
            "Drive already mounted at /content/drive; to attempt to forcibly remount, call drive.mount(\"/content/drive\", force_remount=True).\n"
          ],
          "name": "stdout"
        }
      ]
    },
    {
      "cell_type": "code",
      "metadata": {
        "id": "qguXIo9_r_cf",
        "colab_type": "code",
        "colab": {}
      },
      "source": [
        "import pandas as pd\n",
        "import numpy as np\n",
        "from skimage.transform import resize\n",
        "import matplotlib.pyplot as plt\n",
        "import pickle\n",
        "\n",
        "import cv2\n",
        "\n",
        "from keras.datasets import cifar10\n",
        "from keras.utils import to_categorical\n",
        "from sklearn.model_selection import train_test_split\n",
        "from tensorflow.keras.preprocessing.image import ImageDataGenerator\n",
        "from keras.applications import VGG16\n",
        "from keras import layers\n",
        "from keras import models\n",
        "from tensorflow.keras.optimizers import RMSprop\n",
        "from tensorflow.keras.models import load_model"
      ],
      "execution_count": 22,
      "outputs": []
    },
    {
      "cell_type": "markdown",
      "metadata": {
        "id": "t81Zf-H7hllb",
        "colab_type": "text"
      },
      "source": [
        "## Utility functions"
      ]
    },
    {
      "cell_type": "code",
      "metadata": {
        "id": "gT3EGHqiPBRj",
        "colab_type": "code",
        "colab": {}
      },
      "source": [
        "def graph(history):\n",
        "    epochs_range = range(1,len(history[\"loss\"])+1)\n",
        "    plt.figure(figsize=(12, 4))\n",
        "    plt.subplot(1, 2, 1)\n",
        "    plt.plot(epochs_range, acc, label='Training Accuracy')\n",
        "    plt.plot(epochs_range, val_acc, label='Validation Accuracy')\n",
        "    plt.legend(loc='lower right')\n",
        "    plt.title('Training and Validation Accuracy')\n",
        "\n",
        "    plt.subplot(1, 2, 2)\n",
        "    plt.plot(epochs_range, loss, label='Training Loss')\n",
        "    plt.plot(epochs_range, val_loss, label='Validation Loss')\n",
        "    plt.legend(loc='upper right')\n",
        "    plt.title('Training and Validation Loss')\n",
        "    plt.show()"
      ],
      "execution_count": 3,
      "outputs": []
    },
    {
      "cell_type": "code",
      "metadata": {
        "id": "F_Z3qiKujG9u",
        "colab_type": "code",
        "colab": {}
      },
      "source": [
        "def save_history(history, fn):\n",
        "    with open(fn, 'wb') as fw:\n",
        "        pickle.dump(history.history, fw, protocol=2)"
      ],
      "execution_count": 4,
      "outputs": []
    },
    {
      "cell_type": "markdown",
      "metadata": {
        "id": "Lt-cceTzOQvf",
        "colab_type": "text"
      },
      "source": [
        "## Loading the dataset"
      ]
    },
    {
      "cell_type": "code",
      "metadata": {
        "id": "WDDmz99UImu3",
        "colab_type": "code",
        "colab": {
          "base_uri": "https://localhost:8080/",
          "height": 69
        },
        "outputId": "d9988064-59c0-47d5-c41f-bcc96fa92c35"
      },
      "source": [
        "#load dataset\n",
        "(x_train, y_train), (x_test, y_test) = cifar10.load_data()\n",
        "x_train, x_val, y_train, y_val = train_test_split(x_train, y_train, test_size=0.15, stratify = np.array(y_train), random_state=42)\n",
        "#one hot encoding target variables\n",
        "y_train = to_categorical(y_train)\n",
        "y_val = to_categorical(y_val)\n",
        "y_test = to_categorical(y_test)\n",
        "print('x_train: ', x_train.shape, 'y_train: ', y_train.shape)\n",
        "print('x_val: ', x_val.shape, 'y_val: ', y_val.shape)\n",
        "print('x_test: ', x_test.shape, 'y_test: ', y_test.shape) "
      ],
      "execution_count": 5,
      "outputs": [
        {
          "output_type": "stream",
          "text": [
            "x_train:  (42500, 32, 32, 3) y_train:  (42500, 10)\n",
            "x_val:  (7500, 32, 32, 3) y_val:  (7500, 10)\n",
            "x_test:  (10000, 32, 32, 3) y_test:  (10000, 10)\n"
          ],
          "name": "stdout"
        }
      ]
    },
    {
      "cell_type": "code",
      "metadata": {
        "id": "D9tjO8BT4YDM",
        "colab_type": "code",
        "colab": {
          "base_uri": "https://localhost:8080/",
          "height": 373
        },
        "outputId": "d5b5d6ca-5a57-4ed0-d6dc-721b368dec1c"
      },
      "source": [
        "# plot first few images\n",
        "fig = plt.figure(figsize=(12,7))\n",
        "for i in range(10):\n",
        "  # define subplot\n",
        "\tplt.subplot(2, 5, i+1)\n",
        "\t# plot raw pixel data\n",
        "\tplt.imshow(x_train[i])\n",
        "# show the figure\n",
        "plt.show()"
      ],
      "execution_count": 4,
      "outputs": [
        {
          "output_type": "display_data",
          "data": {
            "image/png": "[encoded data removed]",
            "text/plain": [
              "<Figure size 864x504 with 10 Axes>"
            ]
          },
          "metadata": {
            "tags": [],
            "needs_background": "light"
          }
        }
      ]
    },
    {
      "cell_type": "markdown",
      "metadata": {
        "id": "24EHhLZ-iXs2",
        "colab_type": "text"
      },
      "source": [
        "## Preprocessing data"
      ]
    },
    {
      "cell_type": "markdown",
      "metadata": {
        "id": "pp9ufTHXhPyo",
        "colab_type": "text"
      },
      "source": [
        "VGG16 takes input images having minimum of 48 pixels of height and width. Therefore resizing the images"
      ]
    },
    {
      "cell_type": "code",
      "metadata": {
        "id": "-dNv_7MclYya",
        "colab_type": "code",
        "colab": {}
      },
      "source": [
        "def resize(images):\n",
        "    img = np.zeros((images.shape[0],96,96,3),dtype=np.float32)\n",
        "    for i in range(len(images)):\n",
        "        img[i] = cv2.resize(images[i,:,:,:],(96,96))\n",
        "    return img"
      ],
      "execution_count": 6,
      "outputs": []
    },
    {
      "cell_type": "code",
      "metadata": {
        "id": "L5hZiqdcbMkZ",
        "colab_type": "code",
        "colab": {
          "base_uri": "https://localhost:8080/",
          "height": 69
        },
        "outputId": "2a4b6f15-cd8a-4369-a510-aba62e821537"
      },
      "source": [
        "x_train = resize(x_train)\n",
        "x_val = resize(x_val)\n",
        "x_test = resize(x_test)\n",
        "print('x_train: ', x_train.shape, 'y_train: ', y_train.shape)\n",
        "print('x_val: ', x_val.shape, 'y_val: ', y_val.shape)\n",
        "print('x_test: ', x_test.shape, 'y_test: ', y_test.shape)"
      ],
      "execution_count": 7,
      "outputs": [
        {
          "output_type": "stream",
          "text": [
            "x_train:  (42500, 96, 96, 3) y_train:  (42500, 10)\n",
            "x_val:  (7500, 96, 96, 3) y_val:  (7500, 10)\n",
            "x_test:  (10000, 96, 96, 3) y_test:  (10000, 10)\n"
          ],
          "name": "stdout"
        }
      ]
    },
    {
      "cell_type": "markdown",
      "metadata": {
        "id": "xaEhO0lvSPWf",
        "colab_type": "text"
      },
      "source": [
        "## Setting Variables"
      ]
    },
    {
      "cell_type": "code",
      "metadata": {
        "id": "v57tl_8fSR0X",
        "colab_type": "code",
        "colab": {}
      },
      "source": [
        "batch_size= 256\n",
        "epochs= 40\n",
        "nb_classes= 10\n",
        "learning_rate= 1e-5\n",
        "size = x_train.shape[1:]\n",
        "\n",
        "total_test = 10000\n",
        "test_batch_size = 100"
      ],
      "execution_count": 40,
      "outputs": []
    },
    {
      "cell_type": "markdown",
      "metadata": {
        "id": "5kg7OGc7RfhU",
        "colab_type": "text"
      },
      "source": [
        "## Data Augmentation"
      ]
    },
    {
      "cell_type": "code",
      "metadata": {
        "id": "jjrnA3ASSB9w",
        "colab_type": "code",
        "colab": {}
      },
      "source": [
        "train_data_gen = ImageDataGenerator(\n",
        "      rescale=1./255,\n",
        "      rotation_range=30,\n",
        "      width_shift_range=0.15,\n",
        "      height_shift_range=0.15,\n",
        "      shear_range=0.15,\n",
        "      zoom_range=0.1,\n",
        "      horizontal_flip=True,\n",
        "      fill_mode='nearest')\n",
        "\n",
        "train_data_gen.fit(x_train)\n",
        "train_generator = train_data_gen.flow(x_train, y_train, batch_size=batch_size)"
      ],
      "execution_count": 9,
      "outputs": []
    },
    {
      "cell_type": "code",
      "metadata": {
        "id": "d9VYHpShRiLo",
        "colab_type": "code",
        "colab": {}
      },
      "source": [
        "validation_data_gen = ImageDataGenerator(rescale=1./255)\n",
        "validation_data_gen.fit(x_val)\n",
        "validation_generator = validation_data_gen.flow(x_val, y_val, batch_size=batch_size)"
      ],
      "execution_count": 10,
      "outputs": []
    },
    {
      "cell_type": "code",
      "metadata": {
        "id": "ZLZ7YWtRRyKR",
        "colab_type": "code",
        "colab": {}
      },
      "source": [
        "test_data_gen = ImageDataGenerator(rescale = 1./255)\n",
        "test_data_gen.fit(x_test)\n",
        "test_generator = test_data_gen.flow(x_test, y_test, batch_size=test_batch_size)"
      ],
      "execution_count": 11,
      "outputs": []
    },
    {
      "cell_type": "markdown",
      "metadata": {
        "id": "eeAfeZ0-itpF",
        "colab_type": "text"
      },
      "source": [
        "## Preparing Model\n",
        "Feature Extraction\n",
        "\n",
        "Step 1 - Load pre-trained model and freeze\n",
        "\n",
        "Step 2 - Create new model and add the frozen pretrained model in this model\n",
        "\n",
        "Step 3 - Add dense layers\n",
        "\n",
        "Step 4 - Train Model"
      ]
    },
    {
      "cell_type": "code",
      "metadata": {
        "id": "tiHUU_L2kKoj",
        "colab_type": "code",
        "colab": {}
      },
      "source": [
        "vgg16 = VGG16(weights= 'imagenet', include_top= False, input_shape=size)"
      ],
      "execution_count": 12,
      "outputs": []
    },
    {
      "cell_type": "markdown",
      "metadata": {
        "id": "3B_myCHMWbqu",
        "colab_type": "text"
      },
      "source": [
        "Load Pre-trained Model\n",
        "\n",
        "We are select include_top = False to exclude dense layers.\n",
        "\n",
        "This Model coming with trained weights on imagenet"
      ]
    },
    {
      "cell_type": "code",
      "metadata": {
        "id": "jhpDYn1EOYc-",
        "colab_type": "code",
        "colab": {}
      },
      "source": [
        "#create new model and add pretrained model in this model\n",
        "model = models.Sequential()\n",
        "for i in range(len(vgg16.layers)):\n",
        "    model.add(vgg16.layers[i])\n",
        "\n",
        "for i in range(len(model.layers)): #freeze pretrained model\n",
        "    model.layers[i].trainable = False\n",
        "\n",
        "#add new layers your model\n",
        "model.add(layers.Flatten())\n",
        "model.add(layers.Dropout(0.40))\n",
        "model.add(layers.Dense(256,activation=\"relu\"))\n",
        "model.add(layers.Dense(nb_classes,activation=\"softmax\"))"
      ],
      "execution_count": 13,
      "outputs": []
    },
    {
      "cell_type": "code",
      "metadata": {
        "id": "PgWTl4qXS6Oi",
        "colab_type": "code",
        "colab": {}
      },
      "source": [
        "model.compile(optimizer=\"rmsprop\", loss=\"categorical_crossentropy\", metrics=[\"acc\"])"
      ],
      "execution_count": 14,
      "outputs": []
    },
    {
      "cell_type": "code",
      "metadata": {
        "id": "VT7-4k3ZfM94",
        "colab_type": "code",
        "colab": {
          "base_uri": "https://localhost:8080/",
          "height": 919
        },
        "outputId": "ad359ddb-1f17-43f6-f472-cdba8b04ae3f"
      },
      "source": [
        "model.summary()"
      ],
      "execution_count": 15,
      "outputs": [
        {
          "output_type": "stream",
          "text": [
            "Model: \"sequential_1\"\n",
            "_________________________________________________________________\n",
            "Layer (type)                 Output Shape              Param #   \n",
            "=================================================================\n",
            "block1_conv1 (Conv2D)        (None, 96, 96, 64)        1792      \n",
            "_________________________________________________________________\n",
            "block1_conv2 (Conv2D)        (None, 96, 96, 64)        36928     \n",
            "_________________________________________________________________\n",
            "block1_pool (MaxPooling2D)   (None, 48, 48, 64)        0         \n",
            "_________________________________________________________________\n",
            "block2_conv1 (Conv2D)        (None, 48, 48, 128)       73856     \n",
            "_________________________________________________________________\n",
            "block2_conv2 (Conv2D)        (None, 48, 48, 128)       147584    \n",
            "_________________________________________________________________\n",
            "block2_pool (MaxPooling2D)   (None, 24, 24, 128)       0         \n",
            "_________________________________________________________________\n",
            "block3_conv1 (Conv2D)        (None, 24, 24, 256)       295168    \n",
            "_________________________________________________________________\n",
            "block3_conv2 (Conv2D)        (None, 24, 24, 256)       590080    \n",
            "_________________________________________________________________\n",
            "block3_conv3 (Conv2D)        (None, 24, 24, 256)       590080    \n",
            "_________________________________________________________________\n",
            "block3_pool (MaxPooling2D)   (None, 12, 12, 256)       0         \n",
            "_________________________________________________________________\n",
            "block4_conv1 (Conv2D)        (None, 12, 12, 512)       1180160   \n",
            "_________________________________________________________________\n",
            "block4_conv2 (Conv2D)        (None, 12, 12, 512)       2359808   \n",
            "_________________________________________________________________\n",
            "block4_conv3 (Conv2D)        (None, 12, 12, 512)       2359808   \n",
            "_________________________________________________________________\n",
            "block4_pool (MaxPooling2D)   (None, 6, 6, 512)         0         \n",
            "_________________________________________________________________\n",
            "block5_conv1 (Conv2D)        (None, 6, 6, 512)         2359808   \n",
            "_________________________________________________________________\n",
            "block5_conv2 (Conv2D)        (None, 6, 6, 512)         2359808   \n",
            "_________________________________________________________________\n",
            "block5_conv3 (Conv2D)        (None, 6, 6, 512)         2359808   \n",
            "_________________________________________________________________\n",
            "block5_pool (MaxPooling2D)   (None, 3, 3, 512)         0         \n",
            "_________________________________________________________________\n",
            "flatten_1 (Flatten)          (None, 4608)              0         \n",
            "_________________________________________________________________\n",
            "dropout_1 (Dropout)          (None, 4608)              0         \n",
            "_________________________________________________________________\n",
            "dense_1 (Dense)              (None, 256)               1179904   \n",
            "_________________________________________________________________\n",
            "dense_2 (Dense)              (None, 10)                2570      \n",
            "=================================================================\n",
            "Total params: 15,897,162\n",
            "Trainable params: 1,182,474\n",
            "Non-trainable params: 14,714,688\n",
            "_________________________________________________________________\n"
          ],
          "name": "stdout"
        }
      ]
    },
    {
      "cell_type": "markdown",
      "metadata": {
        "id": "e4rVwfM8gDcZ",
        "colab_type": "text"
      },
      "source": [
        "### Trainable parameters"
      ]
    },
    {
      "cell_type": "code",
      "metadata": {
        "id": "WJlSF1aqfkBB",
        "colab_type": "code",
        "colab": {
          "base_uri": "https://localhost:8080/",
          "height": 35
        },
        "outputId": "48fb4388-c053-430d-c2de-5108a35d0b84"
      },
      "source": [
        "(4608*256 + 256) + (256*10 + 10)"
      ],
      "execution_count": 19,
      "outputs": [
        {
          "output_type": "execute_result",
          "data": {
            "text/plain": [
              "1182474"
            ]
          },
          "metadata": {
            "tags": []
          },
          "execution_count": 19
        }
      ]
    },
    {
      "cell_type": "code",
      "metadata": {
        "id": "uTy2zr3lf19N",
        "colab_type": "code",
        "colab": {
          "base_uri": "https://localhost:8080/",
          "height": 52
        },
        "outputId": "106c2ac0-c5fe-4fe4-be48-dd8274627f81"
      },
      "source": [
        "history = model.fit_generator(generator=train_generator,\n",
        "                              steps_per_epoch=len(train_generator),\n",
        "                              validation_data=validation_generator,\n",
        "                              validation_steps=len(validation_generator),\n",
        "                              epochs=epochs,\n",
        "                              verbose=1)"
      ],
      "execution_count": 17,
      "outputs": [
        {
          "output_type": "stream",
          "text": [
            "Epoch 1/1\n",
            "167/167 [==============================] - 108s 644ms/step - loss: 1.5458 - acc: 0.4777 - val_loss: 1.1562 - val_acc: 0.6232\n"
          ],
          "name": "stdout"
        }
      ]
    },
    {
      "cell_type": "code",
      "metadata": {
        "id": "4NKFaY1-f1_6",
        "colab_type": "code",
        "colab": {
          "base_uri": "https://localhost:8080/",
          "height": 35
        },
        "outputId": "f6b12976-144f-41b6-dc03-a79972c9cd37"
      },
      "source": [
        "graph(history.history)"
      ],
      "execution_count": 37,
      "outputs": [
        {
          "output_type": "execute_result",
          "data": {
            "text/plain": [
              "1328"
            ]
          },
          "metadata": {
            "tags": []
          },
          "execution_count": 37
        }
      ]
    },
    {
      "cell_type": "code",
      "metadata": {
        "id": "HTVht0M9f2DA",
        "colab_type": "code",
        "colab": {
          "base_uri": "https://localhost:8080/",
          "height": 35
        },
        "outputId": "5f400391-e83e-4d29-b299-553f6c10b526"
      },
      "source": [
        "save_history(history, 'history_sequential.bin')\n",
        "model.save('pre_trained_vgg16_sequential.h5')"
      ],
      "execution_count": 39,
      "outputs": [
        {
          "output_type": "execute_result",
          "data": {
            "text/plain": [
              "32"
            ]
          },
          "metadata": {
            "tags": []
          },
          "execution_count": 39
        }
      ]
    },
    {
      "cell_type": "markdown",
      "metadata": {
        "colab_type": "text",
        "id": "8wY2WCfp-hKg"
      },
      "source": [
        "## Predictions"
      ]
    },
    {
      "cell_type": "code",
      "metadata": {
        "colab_type": "code",
        "id": "HnUEZNCA-hKn",
        "colab": {}
      },
      "source": [
        "label_dict = {0:'airplane',\n",
        "             1:'automobile',\n",
        "             2:'bird',\n",
        "             3:'cat',\n",
        "             4:'deer',\n",
        "             5:'dog',\n",
        "             6:'frog',\n",
        "             7:'horse',\n",
        "             8:'ship',\n",
        "             9:'truck'}"
      ],
      "execution_count": null,
      "outputs": []
    },
    {
      "cell_type": "code",
      "metadata": {
        "colab_type": "code",
        "id": "QGcg-Btz-hKu",
        "colab": {
          "base_uri": "https://localhost:8080/",
          "height": 107
        },
        "outputId": "eeeed8f0-0a03-4239-9c0b-1a8d0e7d94a0"
      },
      "source": [
        "test_generator.reset()\n",
        "prediction=model.predict_generator(test_generator,\n",
        "                                   steps=total_test // test_batch_size,\n",
        "                                   verbose=1)"
      ],
      "execution_count": null,
      "outputs": [
        {
          "output_type": "stream",
          "text": [
            "WARNING:tensorflow:From <ipython-input-104-12ae9454e57c>:6: Model.predict_generator (from tensorflow.python.keras.engine.training) is deprecated and will be removed in a future version.\n",
            "Instructions for updating:\n",
            "Please use Model.predict, which supports generators.\n",
            "100/100 [==============================] - 4s 43ms/step\n"
          ],
          "name": "stdout"
        }
      ]
    },
    {
      "cell_type": "code",
      "metadata": {
        "colab_type": "code",
        "id": "IhzRsctK-hKz",
        "colab": {}
      },
      "source": [
        "test_class_indices=np.argmax(y_test,axis=1)\n",
        "labels = label_dict\n",
        "test_labels = [labels[k] for k in test_class_indices]"
      ],
      "execution_count": null,
      "outputs": []
    },
    {
      "cell_type": "code",
      "metadata": {
        "colab_type": "code",
        "id": "XCaDYsH6-hK4",
        "colab": {}
      },
      "source": [
        "predicted_class_indices=np.argmax(prediction,axis=1)\n",
        "labels = label_dict\n",
        "predictions = [labels[k] for k in predicted_class_indices]"
      ],
      "execution_count": null,
      "outputs": []
    },
    {
      "cell_type": "code",
      "metadata": {
        "colab_type": "code",
        "id": "_gYnQjpd-hK9",
        "colab": {}
      },
      "source": [
        "results=pd.DataFrame({\"Test Labels\":test_labels,\n",
        "                      \"Predictions\":predictions})\n",
        "results.to_csv(\"results_pre_trained_vgg16_sequential.csv\",index=False)"
      ],
      "execution_count": null,
      "outputs": []
    },
    {
      "cell_type": "markdown",
      "metadata": {
        "id": "AJ1CNYn-ykFd",
        "colab_type": "text"
      },
      "source": [
        "## Evaluate Model"
      ]
    },
    {
      "cell_type": "code",
      "metadata": {
        "id": "bEWXrtMw24Re",
        "colab_type": "code",
        "colab": {
          "base_uri": "https://localhost:8080/",
          "height": 35
        },
        "outputId": "7af08691-5ba1-48fe-a5c3-a3ed4d9852b3"
      },
      "source": [
        "loss, acc = model.evaluate_generator(generator=validation_generator, steps=len(validation_generator))\n",
        "print(\"Test Accuracy: \",acc)"
      ],
      "execution_count": null,
      "outputs": [
        {
          "output_type": "execute_result",
          "data": {
            "text/plain": [
              "[1.1409269571304321, 0.6746794581413269]"
            ]
          },
          "metadata": {
            "tags": []
          },
          "execution_count": 57
        }
      ]
    },
    {
      "cell_type": "markdown",
      "metadata": {
        "id": "jewEwmDz4wcM",
        "colab_type": "text"
      },
      "source": [
        "## **Fine Tuning**\n",
        "\n",
        "Step 1 - Feature Extraction\n",
        "\n",
        "Step 2 - Select layers to Fine Tunning\n",
        "\n",
        "Step 3 - Train Model"
      ]
    },
    {
      "cell_type": "code",
      "metadata": {
        "id": "_fyV4Xps73mC",
        "colab_type": "code",
        "colab": {
          "base_uri": "https://localhost:8080/",
          "height": 919
        },
        "outputId": "2908a1ad-2d29-485f-ec3a-21b51461bd53"
      },
      "source": [
        "model.summary()"
      ],
      "execution_count": 33,
      "outputs": [
        {
          "output_type": "stream",
          "text": [
            "Model: \"sequential_2\"\n",
            "_________________________________________________________________\n",
            "Layer (type)                 Output Shape              Param #   \n",
            "=================================================================\n",
            "block1_conv1 (Conv2D)        (None, 96, 96, 64)        1792      \n",
            "_________________________________________________________________\n",
            "block1_conv2 (Conv2D)        (None, 96, 96, 64)        36928     \n",
            "_________________________________________________________________\n",
            "block1_pool (MaxPooling2D)   (None, 48, 48, 64)        0         \n",
            "_________________________________________________________________\n",
            "block2_conv1 (Conv2D)        (None, 48, 48, 128)       73856     \n",
            "_________________________________________________________________\n",
            "block2_conv2 (Conv2D)        (None, 48, 48, 128)       147584    \n",
            "_________________________________________________________________\n",
            "block2_pool (MaxPooling2D)   (None, 24, 24, 128)       0         \n",
            "_________________________________________________________________\n",
            "block3_conv1 (Conv2D)        (None, 24, 24, 256)       295168    \n",
            "_________________________________________________________________\n",
            "block3_conv2 (Conv2D)        (None, 24, 24, 256)       590080    \n",
            "_________________________________________________________________\n",
            "block3_conv3 (Conv2D)        (None, 24, 24, 256)       590080    \n",
            "_________________________________________________________________\n",
            "block3_pool (MaxPooling2D)   (None, 12, 12, 256)       0         \n",
            "_________________________________________________________________\n",
            "block4_conv1 (Conv2D)        (None, 12, 12, 512)       1180160   \n",
            "_________________________________________________________________\n",
            "block4_conv2 (Conv2D)        (None, 12, 12, 512)       2359808   \n",
            "_________________________________________________________________\n",
            "block4_conv3 (Conv2D)        (None, 12, 12, 512)       2359808   \n",
            "_________________________________________________________________\n",
            "block4_pool (MaxPooling2D)   (None, 6, 6, 512)         0         \n",
            "_________________________________________________________________\n",
            "block5_conv1 (Conv2D)        (None, 6, 6, 512)         2359808   \n",
            "_________________________________________________________________\n",
            "block5_conv2 (Conv2D)        (None, 6, 6, 512)         2359808   \n",
            "_________________________________________________________________\n",
            "block5_conv3 (Conv2D)        (None, 6, 6, 512)         2359808   \n",
            "_________________________________________________________________\n",
            "block5_pool (MaxPooling2D)   (None, 3, 3, 512)         0         \n",
            "_________________________________________________________________\n",
            "flatten_2 (Flatten)          (None, 4608)              0         \n",
            "_________________________________________________________________\n",
            "dropout_2 (Dropout)          (None, 4608)              0         \n",
            "_________________________________________________________________\n",
            "dense_3 (Dense)              (None, 256)               1179904   \n",
            "_________________________________________________________________\n",
            "dense_4 (Dense)              (None, 10)                2570      \n",
            "=================================================================\n",
            "Total params: 15,897,162\n",
            "Trainable params: 1,182,474\n",
            "Non-trainable params: 14,714,688\n",
            "_________________________________________________________________\n"
          ],
          "name": "stdout"
        }
      ]
    },
    {
      "cell_type": "code",
      "metadata": {
        "id": "G4dDuoNHgxSF",
        "colab_type": "code",
        "colab": {}
      },
      "source": [
        "#select after blocks block5_conv1 to fine tunnig\n",
        "trainable = False\n",
        "for i in model.layers:\n",
        "    if i.name == \"block5_conv1\":\n",
        "        trainable = True\n",
        "    i.trainable = trainable"
      ],
      "execution_count": 36,
      "outputs": []
    },
    {
      "cell_type": "code",
      "metadata": {
        "id": "lbPJe9Gx5jbd",
        "colab_type": "code",
        "colab": {}
      },
      "source": [
        "model.compile(optimizer=RMSprop(lr=learning_rate), loss=\"categorical_crossentropy\",metrics=[\"acc\"])"
      ],
      "execution_count": 37,
      "outputs": []
    },
    {
      "cell_type": "code",
      "metadata": {
        "id": "MBukp_Cy5q_t",
        "colab_type": "code",
        "colab": {
          "base_uri": "https://localhost:8080/",
          "height": 919
        },
        "outputId": "207efa1a-5b11-4e71-8c8f-ed2abb89ec2e"
      },
      "source": [
        "model.summary()"
      ],
      "execution_count": 38,
      "outputs": [
        {
          "output_type": "stream",
          "text": [
            "Model: \"sequential_2\"\n",
            "_________________________________________________________________\n",
            "Layer (type)                 Output Shape              Param #   \n",
            "=================================================================\n",
            "block1_conv1 (Conv2D)        (None, 96, 96, 64)        1792      \n",
            "_________________________________________________________________\n",
            "block1_conv2 (Conv2D)        (None, 96, 96, 64)        36928     \n",
            "_________________________________________________________________\n",
            "block1_pool (MaxPooling2D)   (None, 48, 48, 64)        0         \n",
            "_________________________________________________________________\n",
            "block2_conv1 (Conv2D)        (None, 48, 48, 128)       73856     \n",
            "_________________________________________________________________\n",
            "block2_conv2 (Conv2D)        (None, 48, 48, 128)       147584    \n",
            "_________________________________________________________________\n",
            "block2_pool (MaxPooling2D)   (None, 24, 24, 128)       0         \n",
            "_________________________________________________________________\n",
            "block3_conv1 (Conv2D)        (None, 24, 24, 256)       295168    \n",
            "_________________________________________________________________\n",
            "block3_conv2 (Conv2D)        (None, 24, 24, 256)       590080    \n",
            "_________________________________________________________________\n",
            "block3_conv3 (Conv2D)        (None, 24, 24, 256)       590080    \n",
            "_________________________________________________________________\n",
            "block3_pool (MaxPooling2D)   (None, 12, 12, 256)       0         \n",
            "_________________________________________________________________\n",
            "block4_conv1 (Conv2D)        (None, 12, 12, 512)       1180160   \n",
            "_________________________________________________________________\n",
            "block4_conv2 (Conv2D)        (None, 12, 12, 512)       2359808   \n",
            "_________________________________________________________________\n",
            "block4_conv3 (Conv2D)        (None, 12, 12, 512)       2359808   \n",
            "_________________________________________________________________\n",
            "block4_pool (MaxPooling2D)   (None, 6, 6, 512)         0         \n",
            "_________________________________________________________________\n",
            "block5_conv1 (Conv2D)        (None, 6, 6, 512)         2359808   \n",
            "_________________________________________________________________\n",
            "block5_conv2 (Conv2D)        (None, 6, 6, 512)         2359808   \n",
            "_________________________________________________________________\n",
            "block5_conv3 (Conv2D)        (None, 6, 6, 512)         2359808   \n",
            "_________________________________________________________________\n",
            "block5_pool (MaxPooling2D)   (None, 3, 3, 512)         0         \n",
            "_________________________________________________________________\n",
            "flatten_2 (Flatten)          (None, 4608)              0         \n",
            "_________________________________________________________________\n",
            "dropout_2 (Dropout)          (None, 4608)              0         \n",
            "_________________________________________________________________\n",
            "dense_3 (Dense)              (None, 256)               1179904   \n",
            "_________________________________________________________________\n",
            "dense_4 (Dense)              (None, 10)                2570      \n",
            "=================================================================\n",
            "Total params: 15,897,162\n",
            "Trainable params: 8,261,898\n",
            "Non-trainable params: 7,635,264\n",
            "_________________________________________________________________\n"
          ],
          "name": "stdout"
        }
      ]
    },
    {
      "cell_type": "code",
      "metadata": {
        "id": "eMMop_pM86hI",
        "colab_type": "code",
        "colab": {}
      },
      "source": [
        "# history = model.fit_generator(generator=train_generator,\n",
        "#                 steps_per_epoch=len(train_generator),epochs=epoch,\n",
        "#                 validation_data=valid_generator,\n",
        "#                 validation_steps=len(valid_generator))\n",
        "\n",
        "history = model.fit_generator(generator=train_generator,\n",
        "                              steps_per_epoch=len(train_generator),\n",
        "                              validation_data=validation_generator,\n",
        "                              validation_steps=len(validation_generator),\n",
        "                              epochs=epochs,\n",
        "                              verbose=1)"
      ],
      "execution_count": null,
      "outputs": []
    },
    {
      "cell_type": "code",
      "metadata": {
        "id": "zCUnjCL36O6N",
        "colab_type": "code",
        "colab": {}
      },
      "source": [
        "graph(history.history)"
      ],
      "execution_count": null,
      "outputs": []
    },
    {
      "cell_type": "code",
      "metadata": {
        "id": "LY-sJq96669Y",
        "colab_type": "code",
        "colab": {}
      },
      "source": [
        "save_history(history, 'history_sequential_fine_tune.bin') \n",
        "model.save('pre_trained_vgg16_sequential_fine_tune.h5')"
      ],
      "execution_count": null,
      "outputs": []
    },
    {
      "cell_type": "markdown",
      "metadata": {
        "id": "-yAh1pYH68CJ",
        "colab_type": "text"
      },
      "source": [
        "## Evaluate Model"
      ]
    },
    {
      "cell_type": "code",
      "metadata": {
        "colab_type": "code",
        "id": "aN9TSdLi7M5c",
        "colab": {
          "base_uri": "https://localhost:8080/",
          "height": 35
        },
        "outputId": "7af08691-5ba1-48fe-a5c3-a3ed4d9852b3"
      },
      "source": [
        "loss, acc = model.evaluate_generator(generator=validation_generator, steps=len(validation_generator))\n",
        "print(\"Test Accuracy: \",acc)"
      ],
      "execution_count": null,
      "outputs": [
        {
          "output_type": "execute_result",
          "data": {
            "text/plain": [
              "[1.1409269571304321, 0.6746794581413269]"
            ]
          },
          "metadata": {
            "tags": []
          },
          "execution_count": 57
        }
      ]
    },
    {
      "cell_type": "markdown",
      "metadata": {
        "id": "Yr9hMaYi1XUm",
        "colab_type": "text"
      },
      "source": [
        "## Predictions"
      ]
    },
    {
      "cell_type": "code",
      "metadata": {
        "id": "wzIOPp7w1mtk",
        "colab_type": "code",
        "colab": {}
      },
      "source": [
        "label_dict = {0:'airplane',\n",
        "             1:'automobile',\n",
        "             2:'bird',\n",
        "             3:'cat',\n",
        "             4:'deer',\n",
        "             5:'dog',\n",
        "             6:'frog',\n",
        "             7:'horse',\n",
        "             8:'ship',\n",
        "             9:'truck'}"
      ],
      "execution_count": null,
      "outputs": []
    },
    {
      "cell_type": "code",
      "metadata": {
        "id": "oo5a_IwsCbyu",
        "colab_type": "code",
        "colab": {
          "base_uri": "https://localhost:8080/",
          "height": 107
        },
        "outputId": "eeeed8f0-0a03-4239-9c0b-1a8d0e7d94a0"
      },
      "source": [
        "test_generator.reset()\n",
        "prediction=model.predict_generator(test_generator,\n",
        "                                   steps=total_test // test_batch_size,\n",
        "                                   verbose=1)"
      ],
      "execution_count": null,
      "outputs": [
        {
          "output_type": "stream",
          "text": [
            "WARNING:tensorflow:From <ipython-input-104-12ae9454e57c>:6: Model.predict_generator (from tensorflow.python.keras.engine.training) is deprecated and will be removed in a future version.\n",
            "Instructions for updating:\n",
            "Please use Model.predict, which supports generators.\n",
            "100/100 [==============================] - 4s 43ms/step\n"
          ],
          "name": "stdout"
        }
      ]
    },
    {
      "cell_type": "code",
      "metadata": {
        "id": "YUKdiVy1EsRh",
        "colab_type": "code",
        "colab": {}
      },
      "source": [
        "test_class_indices=np.argmax(y_test,axis=1)\n",
        "labels = label_dict\n",
        "test_labels = [labels[k] for k in test_class_indices]"
      ],
      "execution_count": null,
      "outputs": []
    },
    {
      "cell_type": "code",
      "metadata": {
        "id": "at-kigFaDFOl",
        "colab_type": "code",
        "colab": {}
      },
      "source": [
        "predicted_class_indices=np.argmax(prediction,axis=1)\n",
        "labels = label_dict\n",
        "predictions = [labels[k] for k in predicted_class_indices]"
      ],
      "execution_count": null,
      "outputs": []
    },
    {
      "cell_type": "code",
      "metadata": {
        "id": "ApjnGpuuDPx8",
        "colab_type": "code",
        "colab": {}
      },
      "source": [
        "results=pd.DataFrame({\"Test Labels\":test_labels,\n",
        "                      \"Predictions\":predictions})\n",
        "results.to_csv(\"results_pre_trained_vgg16_sequential_fine_tune.csv\",index=False)"
      ],
      "execution_count": null,
      "outputs": []
    },
    {
      "cell_type": "code",
      "metadata": {
        "id": "SSChhCl8cucq",
        "colab_type": "code",
        "colab": {
          "base_uri": "https://localhost:8080/",
          "height": 1000
        },
        "outputId": "82171260-1fc3-456c-846f-6bd14611cb2a"
      },
      "source": [
        "for img in range(5):\n",
        "  img_resized = resize(x_test[img],(48, 48),3)\n",
        "  plt.imshow(img_resized)\n",
        "  plt.show()"
      ],
      "execution_count": null,
      "outputs": [
        {
          "output_type": "display_data",
          "data": {
            "image/png": "[encoded data removed]",
            "text/plain": [
              "<Figure size 432x288 with 1 Axes>"
            ]
          },
          "metadata": {
            "tags": [],
            "needs_background": "light"
          }
        },
        {
          "output_type": "display_data",
          "data": {
            "image/png": "[encoded data removed]",
            "text/plain": [
              "<Figure size 432x288 with 1 Axes>"
            ]
          },
          "metadata": {
            "tags": [],
            "needs_background": "light"
          }
        },
        {
          "output_type": "display_data",
          "data": {
            "image/png": "[encoded data removed]",
            "text/plain": [
              "<Figure size 432x288 with 1 Axes>"
            ]
          },
          "metadata": {
            "tags": [],
            "needs_background": "light"
          }
        },
        {
          "output_type": "display_data",
          "data": {
            "image/png": "[encoded data removed]",
            "text/plain": [
              "<Figure size 432x288 with 1 Axes>"
            ]
          },
          "metadata": {
            "tags": [],
            "needs_background": "light"
          }
        },
        {
          "output_type": "display_data",
          "data": {
            "image/png": "[encoded data removed]",
            "text/plain": [
              "<Figure size 432x288 with 1 Axes>"
            ]
          },
          "metadata": {
            "tags": [],
            "needs_background": "light"
          }
        }
      ]
    }
  ]
}